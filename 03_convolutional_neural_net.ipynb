{
 "cells": [
  {
   "cell_type": "code",
   "execution_count": 1,
   "id": "coated-forwarding",
   "metadata": {},
   "outputs": [],
   "source": [
    "import torch\n",
    "import torch.nn as nn\n",
    "import torch.optim as optim\n",
    "import torch.nn.functional as F\n",
    "from torch.utils.data import DataLoader\n",
    "import torchvision.datasets as datasets\n",
    "import torchvision.transforms as transforms\n",
    "\n",
    "import pandas as pd\n",
    "import matplotlib.pyplot as plt\n",
    "\n",
    "import random\n",
    "import sys, os\n",
    "import multiprocessing"
   ]
  },
  {
   "cell_type": "code",
   "execution_count": 2,
   "id": "sublime-consolidation",
   "metadata": {},
   "outputs": [
    {
     "name": "stderr",
     "output_type": "stream",
     "text": [
      "/home/bizon/anaconda3/envs/torch_dev/lib/python3.8/site-packages/torch/cuda/__init__.py:52: UserWarning: CUDA initialization: Unexpected error from cudaGetDeviceCount(). Did you run some cuda functions before calling NumCudaDevices() that might have already set an error? Error 803: system has unsupported display driver / cuda driver combination (Triggered internally at  /opt/conda/conda-bld/pytorch_1607370172916/work/c10/cuda/CUDAFunctions.cpp:100.)\n",
      "  return torch._C._cuda_getDeviceCount() > 0\n"
     ]
    }
   ],
   "source": [
    "# use gpu for training if available\n",
    "device = torch.device(\"cuda\" if torch.cuda.is_available() else \"cpu\")"
   ]
  },
  {
   "cell_type": "markdown",
   "id": "wrong-bolivia",
   "metadata": {},
   "source": [
    "### Model specification\n",
    "Dimension calculation in the 2D convolution layer<br>\n",
    "n_out = (n_in + 2p - k)/s + 1 <br>\n",
    "\n",
    "where,<br>\n",
    "n_in: number of input features<br>\n",
    "n_out: number of output features<br>\n",
    "k: convolution kernel size<br>\n",
    "p: convolution padding size<br>\n",
    "s: convolution stride size<br>"
   ]
  },
  {
   "cell_type": "code",
   "execution_count": 3,
   "id": "christian-prefix",
   "metadata": {},
   "outputs": [],
   "source": [
    "class Conv_net(nn.Module):\n",
    "    def __init__(self, in_channels, num_classes):\n",
    "        super(Conv_net, self).__init__()\n",
    "        \n",
    "        self.conv1 = nn.Conv2d(in_channels=in_channels, out_channels=6, kernel_size=3)\n",
    "        self.conv2 = nn.Conv2d(6, 12, 4)\n",
    "        self.pool = nn.MaxPool2d(2, 2)\n",
    "        self.fc1 = nn.Linear(12 * 5 * 5, 100)\n",
    "        self.fc2 = nn.Linear(100, num_classes)\n",
    "    \n",
    "    def forward(self, x):\n",
    "        x = F.relu(self.conv1(x)) #（1,28,28）->(6,26,26)\n",
    "        x = self.pool(x) #(6,26,26)->(6,13,13)\n",
    "        x = F.relu(self.conv2(x)) #（6,13,13）->(12,10,10)\n",
    "        x = self.pool(x) #(12,10,10)->(12,5,5)\n",
    "        x = x.view(-1, 12 * 5 * 5)\n",
    "        x = F.relu(self.fc1(x))\n",
    "        x = self.fc2(x)\n",
    "        return x"
   ]
  },
  {
   "cell_type": "markdown",
   "id": "architectural-sphere",
   "metadata": {},
   "source": [
    "### Dimensionality checking with random inputs\n",
    "Recommend to do so to ensure the data flow in your model is as you expected"
   ]
  },
  {
   "cell_type": "code",
   "execution_count": 4,
   "id": "charged-portugal",
   "metadata": {},
   "outputs": [
    {
     "name": "stdout",
     "output_type": "stream",
     "text": [
      "torch.Size([64, 10])\n"
     ]
    }
   ],
   "source": [
    "x = torch.randn(64, 1, 28, 28)\n",
    "model = Conv_net(in_channels=1, num_classes=10)\n",
    "out = model(x)\n",
    "print(out.shape)"
   ]
  },
  {
   "cell_type": "markdown",
   "id": "informative-fortune",
   "metadata": {},
   "source": [
    "### Global Variables Specification\n",
    "Configure this part to your preferred setting before you start training"
   ]
  },
  {
   "cell_type": "code",
   "execution_count": 5,
   "id": "western-sleep",
   "metadata": {},
   "outputs": [],
   "source": [
    "num_classes = 10\n",
    "learning_rate = 0.001\n",
    "batch_size = 64\n",
    "num_epochs = 50\n",
    "num_workers = 16 # multiprocessing.cpu_count() \n",
    "in_channels = 1 # fashion-mnist only has 1 channel\n",
    "early_stopping_criteria= 5\n",
    "\n",
    "val_proportion = 0.2\n",
    "\n",
    "data_dir = \"/mnt/addtional_data_ssd/pytorch_tutorials/data\" # change this path to your preferred directory to store fashion minst data\n",
    "model_dir = \"/mnt/addtional_data_ssd/pytorch_tutorials/model\" \n",
    "\n",
    "saved_model_fn = os.path.join(model_dir, \"best_cnn_fmnist_model.pt\")"
   ]
  },
  {
   "cell_type": "markdown",
   "id": "treated-overhead",
   "metadata": {},
   "source": [
    "### Set up Dataset and DataLoader"
   ]
  },
  {
   "cell_type": "code",
   "execution_count": 6,
   "id": "aboriginal-inside",
   "metadata": {},
   "outputs": [
    {
     "name": "stdout",
     "output_type": "stream",
     "text": [
      "number samples in train: 48000\n",
      "number samples in val: 12000\n",
      "number samples in test: 10000\n"
     ]
    }
   ],
   "source": [
    "train_dataset = datasets.FashionMNIST(root=data_dir, train=True, transform=transforms.ToTensor(), download=True)\n",
    "test_dataset  = datasets.FashionMNIST(root=data_dir, train=False, transform=transforms.ToTensor(), download=True)\n",
    "\n",
    "\n",
    "val_size = int(val_proportion*len(train_dataset))\n",
    "train_size = len(train_dataset) - val_size\n",
    "test_size = len(test_dataset)\n",
    "\n",
    "print(f\"number samples in train: {train_size}\")\n",
    "print(f\"number samples in val: {val_size}\")\n",
    "print(f\"number samples in test: {test_size}\")\n",
    "\n",
    "train_dataset, val_dataset = torch.utils.data.random_split(dataset=train_dataset, \n",
    "                                                           lengths=[train_size, val_size],\n",
    "                                                           generator=torch.Generator().manual_seed(20210315))"
   ]
  },
  {
   "cell_type": "code",
   "execution_count": 7,
   "id": "multiple-pittsburgh",
   "metadata": {},
   "outputs": [],
   "source": [
    "train_loader = DataLoader(dataset=train_dataset, batch_size=batch_size, shuffle=True, num_workers=num_workers)\n",
    "val_loader = DataLoader(dataset=val_dataset, batch_size=batch_size, shuffle=False, num_workers=num_workers)\n",
    "test_loader = DataLoader(dataset=test_dataset, batch_size=batch_size, shuffle=False, num_workers=num_workers)"
   ]
  },
  {
   "cell_type": "code",
   "execution_count": 8,
   "id": "express-ecuador",
   "metadata": {},
   "outputs": [
    {
     "name": "stdout",
     "output_type": "stream",
     "text": [
      "input image has shape:\n",
      "torch.Size([1, 28, 28])\n"
     ]
    }
   ],
   "source": [
    "# check the dimensions of the data\n",
    "image, target = train_dataset[0]\n",
    "print(\"input image has shape:\")\n",
    "print(image.shape)"
   ]
  },
  {
   "cell_type": "markdown",
   "id": "handled-angle",
   "metadata": {},
   "source": [
    "### Model Initialization, Loss, Optimizer"
   ]
  },
  {
   "cell_type": "code",
   "execution_count": 9,
   "id": "sharp-smooth",
   "metadata": {},
   "outputs": [
    {
     "name": "stdout",
     "output_type": "stream",
     "text": [
      "Conv_net(\n",
      "  (conv1): Conv2d(1, 6, kernel_size=(3, 3), stride=(1, 1))\n",
      "  (conv2): Conv2d(6, 12, kernel_size=(4, 4), stride=(1, 1))\n",
      "  (pool): MaxPool2d(kernel_size=2, stride=2, padding=0, dilation=1, ceil_mode=False)\n",
      "  (fc1): Linear(in_features=300, out_features=100, bias=True)\n",
      "  (fc2): Linear(in_features=100, out_features=10, bias=True)\n",
      ")\n"
     ]
    }
   ],
   "source": [
    "# instantiate the model\n",
    "clf = Conv_net(in_channels=in_channels, num_classes=num_classes)\n",
    "clf.to(device) # move the model to gpu if available\n",
    "print(clf)\n",
    "\n",
    "# instantiate the loss and the optimizer\n",
    "criterion = nn.CrossEntropyLoss()\n",
    "optimizer = optim.Adam(clf.parameters(), lr=learning_rate)"
   ]
  },
  {
   "cell_type": "markdown",
   "id": "correct-coral",
   "metadata": {},
   "source": [
    "### Initialize a dictionary to record training progress"
   ]
  },
  {
   "cell_type": "code",
   "execution_count": 10,
   "id": "passive-showcase",
   "metadata": {},
   "outputs": [],
   "source": [
    "train_state = {\n",
    "    \"train_loss\": [],\n",
    "    \"train_acc\": [],\n",
    "    \"val_loss\": [],\n",
    "    \"val_acc\": []\n",
    "}"
   ]
  },
  {
   "cell_type": "markdown",
   "id": "complicated-voluntary",
   "metadata": {},
   "source": [
    "### Train the model\n",
    "[Model saving and loading](https://pytorch.org/tutorials/beginner/saving_loading_models.html)"
   ]
  },
  {
   "cell_type": "code",
   "execution_count": 11,
   "id": "emerging-spiritual",
   "metadata": {},
   "outputs": [
    {
     "name": "stdout",
     "output_type": "stream",
     "text": [
      "[epoch 0 step 199] running training loss: 1.005\n",
      "[epoch 0 step 399] running training loss: 0.583\n",
      "[epoch 0 step 599] running training loss: 0.518\n",
      "[epoch 0] val loss: 0.461, accuracy: 82.742%\n",
      "current best validation loss: 0.461\n",
      "=====>save the best model\n",
      "--------------------------------------------\n",
      "[epoch 1 step 199] running training loss: 0.445\n",
      "[epoch 1 step 399] running training loss: 0.427\n",
      "[epoch 1 step 599] running training loss: 0.413\n",
      "[epoch 1] val loss: 0.400, accuracy: 85.408%\n",
      "current best validation loss: 0.400\n",
      "=====>save the best model\n",
      "--------------------------------------------\n",
      "[epoch 2 step 199] running training loss: 0.383\n",
      "[epoch 2 step 399] running training loss: 0.375\n",
      "[epoch 2 step 599] running training loss: 0.371\n",
      "[epoch 2] val loss: 0.371, accuracy: 86.417%\n",
      "current best validation loss: 0.371\n",
      "=====>save the best model\n",
      "--------------------------------------------\n",
      "[epoch 3 step 199] running training loss: 0.348\n",
      "[epoch 3 step 399] running training loss: 0.348\n",
      "[epoch 3 step 599] running training loss: 0.345\n",
      "[epoch 3] val loss: 0.335, accuracy: 87.517%\n",
      "current best validation loss: 0.335\n",
      "=====>save the best model\n",
      "--------------------------------------------\n",
      "[epoch 4 step 199] running training loss: 0.324\n",
      "[epoch 4 step 399] running training loss: 0.321\n",
      "[epoch 4 step 599] running training loss: 0.337\n",
      "[epoch 4] val loss: 0.325, accuracy: 88.000%\n",
      "current best validation loss: 0.325\n",
      "=====>save the best model\n",
      "--------------------------------------------\n",
      "[epoch 5 step 199] running training loss: 0.306\n",
      "[epoch 5 step 399] running training loss: 0.311\n",
      "[epoch 5 step 599] running training loss: 0.304\n",
      "[epoch 5] val loss: 0.322, accuracy: 88.183%\n",
      "current best validation loss: 0.322\n",
      "=====>save the best model\n",
      "--------------------------------------------\n",
      "[epoch 6 step 199] running training loss: 0.289\n",
      "[epoch 6 step 399] running training loss: 0.301\n",
      "[epoch 6 step 599] running training loss: 0.293\n",
      "[epoch 6] val loss: 0.316, accuracy: 88.475%\n",
      "current best validation loss: 0.316\n",
      "=====>save the best model\n",
      "--------------------------------------------\n",
      "[epoch 7 step 199] running training loss: 0.286\n",
      "[epoch 7 step 399] running training loss: 0.286\n",
      "[epoch 7 step 599] running training loss: 0.280\n",
      "[epoch 7] val loss: 0.298, accuracy: 89.117%\n",
      "current best validation loss: 0.298\n",
      "=====>save the best model\n",
      "--------------------------------------------\n",
      "[epoch 8 step 199] running training loss: 0.280\n",
      "[epoch 8 step 399] running training loss: 0.268\n",
      "[epoch 8 step 599] running training loss: 0.273\n",
      "[epoch 8] val loss: 0.298, accuracy: 89.125%\n",
      "current best validation loss: 0.298\n",
      "=====>save the best model\n",
      "--------------------------------------------\n",
      "[epoch 9 step 199] running training loss: 0.267\n",
      "[epoch 9 step 399] running training loss: 0.273\n",
      "[epoch 9 step 599] running training loss: 0.257\n",
      "[epoch 9] val loss: 0.291, accuracy: 89.292%\n",
      "current best validation loss: 0.291\n",
      "=====>save the best model\n",
      "--------------------------------------------\n",
      "[epoch 10 step 199] running training loss: 0.246\n",
      "[epoch 10 step 399] running training loss: 0.266\n",
      "[epoch 10 step 599] running training loss: 0.251\n",
      "[epoch 10] val loss: 0.294, accuracy: 88.958%\n",
      "validation loss stops decreasing for 1 epoch\n",
      "--------------------------------------------\n",
      "[epoch 11 step 199] running training loss: 0.244\n",
      "[epoch 11 step 399] running training loss: 0.248\n",
      "[epoch 11 step 599] running training loss: 0.254\n",
      "[epoch 11] val loss: 0.287, accuracy: 89.267%\n",
      "current best validation loss: 0.287\n",
      "=====>save the best model\n",
      "--------------------------------------------\n",
      "[epoch 12 step 199] running training loss: 0.230\n",
      "[epoch 12 step 399] running training loss: 0.244\n",
      "[epoch 12 step 599] running training loss: 0.242\n",
      "[epoch 12] val loss: 0.286, accuracy: 89.550%\n",
      "current best validation loss: 0.286\n",
      "=====>save the best model\n",
      "--------------------------------------------\n",
      "[epoch 13 step 199] running training loss: 0.229\n",
      "[epoch 13 step 399] running training loss: 0.243\n",
      "[epoch 13 step 599] running training loss: 0.232\n",
      "[epoch 13] val loss: 0.286, accuracy: 89.542%\n",
      "validation loss stops decreasing for 1 epoch\n",
      "--------------------------------------------\n",
      "[epoch 14 step 199] running training loss: 0.224\n",
      "[epoch 14 step 399] running training loss: 0.231\n",
      "[epoch 14 step 599] running training loss: 0.219\n",
      "[epoch 14] val loss: 0.278, accuracy: 89.883%\n",
      "current best validation loss: 0.278\n",
      "=====>save the best model\n",
      "--------------------------------------------\n",
      "[epoch 15 step 199] running training loss: 0.217\n",
      "[epoch 15 step 399] running training loss: 0.224\n",
      "[epoch 15 step 599] running training loss: 0.217\n",
      "[epoch 15] val loss: 0.280, accuracy: 89.767%\n",
      "validation loss stops decreasing for 1 epoch\n",
      "--------------------------------------------\n",
      "[epoch 16 step 199] running training loss: 0.211\n",
      "[epoch 16 step 399] running training loss: 0.212\n",
      "[epoch 16 step 599] running training loss: 0.212\n",
      "[epoch 16] val loss: 0.301, accuracy: 88.933%\n",
      "validation loss stops decreasing for 2 epoch\n",
      "--------------------------------------------\n",
      "[epoch 17 step 199] running training loss: 0.208\n",
      "[epoch 17 step 399] running training loss: 0.199\n",
      "[epoch 17 step 599] running training loss: 0.206\n",
      "[epoch 17] val loss: 0.275, accuracy: 90.108%\n",
      "current best validation loss: 0.275\n",
      "=====>save the best model\n",
      "--------------------------------------------\n",
      "[epoch 18 step 199] running training loss: 0.195\n",
      "[epoch 18 step 399] running training loss: 0.203\n",
      "[epoch 18 step 599] running training loss: 0.196\n",
      "[epoch 18] val loss: 0.271, accuracy: 90.058%\n",
      "current best validation loss: 0.271\n",
      "=====>save the best model\n",
      "--------------------------------------------\n",
      "[epoch 19 step 199] running training loss: 0.190\n",
      "[epoch 19 step 399] running training loss: 0.206\n",
      "[epoch 19 step 599] running training loss: 0.195\n",
      "[epoch 19] val loss: 0.283, accuracy: 89.933%\n",
      "validation loss stops decreasing for 1 epoch\n",
      "--------------------------------------------\n",
      "[epoch 20 step 199] running training loss: 0.192\n",
      "[epoch 20 step 399] running training loss: 0.193\n",
      "[epoch 20 step 599] running training loss: 0.187\n",
      "[epoch 20] val loss: 0.298, accuracy: 89.175%\n",
      "validation loss stops decreasing for 2 epoch\n",
      "--------------------------------------------\n",
      "[epoch 21 step 199] running training loss: 0.180\n",
      "[epoch 21 step 399] running training loss: 0.188\n",
      "[epoch 21 step 599] running training loss: 0.191\n",
      "[epoch 21] val loss: 0.283, accuracy: 90.317%\n",
      "validation loss stops decreasing for 3 epoch\n",
      "--------------------------------------------\n",
      "[epoch 22 step 199] running training loss: 0.174\n",
      "[epoch 22 step 399] running training loss: 0.185\n",
      "[epoch 22 step 599] running training loss: 0.188\n",
      "[epoch 22] val loss: 0.281, accuracy: 90.125%\n",
      "validation loss stops decreasing for 4 epoch\n",
      "--------------------------------------------\n",
      "[epoch 23 step 199] running training loss: 0.177\n",
      "[epoch 23 step 399] running training loss: 0.173\n",
      "[epoch 23 step 599] running training loss: 0.178\n",
      "[epoch 23] val loss: 0.283, accuracy: 90.258%\n",
      "validation loss stops decreasing for 5 epoch\n",
      "early stopping criteria reached\n"
     ]
    }
   ],
   "source": [
    "best_val_loss = float('inf')\n",
    "early_stopping_step = 0\n",
    "\n",
    "for epoch in range(num_epochs):\n",
    "    running_train_loss = 0.0 # running loss for every 200 steps during training\n",
    "    train_loss = 0.0 # accumulated training loss for the entire epoch\n",
    "    num_train_samples = 0 \n",
    "    correct = 0\n",
    "    clf.train() # switch to training mode\n",
    "    for batch_idx, (images, targets) in enumerate(train_loader):\n",
    "        # transfer data to gpu if available\n",
    "        images, targets = images.to(device), targets.to(device)\n",
    "        #print(images.shape, targets.shape)\n",
    "        \n",
    "        # reshape the images to proper shape\n",
    "        batch_size = images.shape[0]\n",
    "        \n",
    "        # forward pass\n",
    "        preds = clf(images)\n",
    "        loss = criterion(preds, targets)\n",
    "        \n",
    "        # back prop\n",
    "        optimizer.zero_grad()\n",
    "        loss.backward()\n",
    "        \n",
    "        # update model params\n",
    "        optimizer.step()\n",
    "        \n",
    "        # evaluate performance for each batch\n",
    "        running_train_loss += loss.item()\n",
    "        train_loss += loss.item() * batch_size\n",
    "        num_train_samples += batch_size\n",
    "        _, pred_labels = torch.max(preds, dim=1)\n",
    "        correct += (pred_labels==targets).sum().item()\n",
    "\n",
    "        # print training stat every 200 steps\n",
    "        if ((batch_idx+1) % 200==0):\n",
    "            print(f\"[epoch {epoch} step {batch_idx}] running training loss: {running_train_loss/200:.3f}\")\n",
    "            running_train_loss = 0.0\n",
    "    \n",
    "    epoch_train_loss= train_loss/num_train_samples\n",
    "    epoch_train_acc= correct/num_train_samples\n",
    "            \n",
    "    # evaluate on the validation set every epoch\n",
    "    clf.eval() # switch to evaluation mode\n",
    "    val_loss = 0.0\n",
    "    num_val_samples = 0 \n",
    "    correct = 0\n",
    "    for images, targets in val_loader:\n",
    "        images, targets = images.to(device), targets.to(device)\n",
    "        batch_size = images.shape[0]\n",
    "        preds = clf(images)\n",
    "        loss = criterion(preds, targets)\n",
    "        val_loss += loss.item() * images.shape[0]\n",
    "        num_val_samples += batch_size\n",
    "        # calculate accuracy\n",
    "        preds = clf(images)\n",
    "        _, pred_labels = torch.max(preds, dim=1)\n",
    "        correct += (pred_labels==targets).sum().item()\n",
    "    epoch_val_loss= val_loss/num_val_samples\n",
    "    epoch_val_acc= correct/num_val_samples\n",
    "    print(f\"[epoch {epoch}] val loss: {epoch_val_loss:.3f}, accuracy: {100*epoch_val_acc:.3f}%\")\n",
    "    \n",
    "    # update train_state dict\n",
    "    train_state['train_loss'].append(epoch_train_loss)\n",
    "    train_state['train_acc'].append(epoch_train_acc)\n",
    "    train_state['val_loss'].append(epoch_val_loss)\n",
    "    train_state['val_acc'].append(epoch_val_acc)\n",
    "    \n",
    "    # early stopping\n",
    "    if (epoch_val_loss < best_val_loss):\n",
    "        best_val_loss = epoch_val_loss\n",
    "        early_stopping_step = 0\n",
    "        print(f\"current best validation loss: {best_val_loss:.3f}\")\n",
    "        torch.save(clf.state_dict(), saved_model_fn)\n",
    "        print(\"=====>save the best model\")\n",
    "    else:\n",
    "        early_stopping_step += 1\n",
    "        print(f\"validation loss stops decreasing for {early_stopping_step} epoch\")\n",
    "        if (early_stopping_step==early_stopping_criteria):\n",
    "            print(\"early stopping criteria reached\")\n",
    "            break\n",
    "    print(\"--------------------------------------------\")\n",
    "            "
   ]
  },
  {
   "cell_type": "markdown",
   "id": "hairy-honey",
   "metadata": {},
   "source": [
    "### Test the network on the test data"
   ]
  },
  {
   "cell_type": "code",
   "execution_count": 12,
   "id": "accompanied-invitation",
   "metadata": {},
   "outputs": [
    {
     "name": "stdout",
     "output_type": "stream",
     "text": [
      "testing loss: 0.290, testing accuracy: 89.980%\n"
     ]
    }
   ],
   "source": [
    "# load the saved best model\n",
    "clf = Conv_net(in_channels=in_channels, num_classes=num_classes)\n",
    "clf.load_state_dict(torch.load(saved_model_fn))\n",
    "clf.to(device) # move the model to gpu if available\n",
    "\n",
    "clf.eval()\n",
    "test_loss = 0.0\n",
    "num_test_samples = 0 \n",
    "correct = 0\n",
    "for images, targets in test_loader:\n",
    "    images, targets = images.to(device), targets.to(device)\n",
    "    batch_size = images.shape[0]\n",
    "    preds = clf(images)\n",
    "    loss = criterion(preds, targets)\n",
    "    test_loss += loss.item() * images.shape[0]\n",
    "    num_test_samples += batch_size\n",
    "    # calculate accuracy\n",
    "    preds = clf(images)\n",
    "    _, pred_labels = torch.max(preds, dim=1)\n",
    "    correct += (pred_labels==targets).sum().item()\n",
    "print(f\"testing loss: {test_loss/num_test_samples:.3f}, testing accuracy: {100*correct/num_test_samples:.3f}%\")\n"
   ]
  },
  {
   "cell_type": "markdown",
   "id": "partial-company",
   "metadata": {},
   "source": [
    "### Plot learning curve"
   ]
  },
  {
   "cell_type": "code",
   "execution_count": 13,
   "id": "controversial-dutch",
   "metadata": {},
   "outputs": [],
   "source": [
    "def plot_learning_curves(train_hist_df, title):\n",
    "    num_epoch = train_hist_df.shape[0]\n",
    "    train_hist_df.plot(figsize=(8, 5), title=title, xticks=range(1, num_epoch+1, 3))\n",
    "    plt.grid(True)\n",
    "    ymin, ymax = 0.95 * train_hist_df.values.min(), min(1.1 * train_hist_df.values.max(), 1.0)\n",
    "    plt.gca().set_ylim(ymin, ymax)\n",
    "    plt.show()"
   ]
  },
  {
   "cell_type": "code",
   "execution_count": 14,
   "id": "greater-visiting",
   "metadata": {},
   "outputs": [
    {
     "name": "stdout",
     "output_type": "stream",
     "text": [
      "    train_loss  train_acc  val_loss   val_acc\n",
      "0     0.654905   0.767375  0.461166  0.827417\n",
      "1     0.424080   0.848208  0.399954  0.854083\n",
      "2     0.375444   0.866396  0.371435  0.864167\n",
      "3     0.348887   0.875271  0.335359  0.875167\n",
      "4     0.326972   0.881938  0.325498  0.880000\n",
      "5     0.309363   0.888292  0.322436  0.881833\n",
      "6     0.294849   0.892667  0.315813  0.884750\n",
      "7     0.284791   0.895333  0.298468  0.891167\n",
      "8     0.274479   0.901104  0.298126  0.891250\n",
      "9     0.265244   0.903208  0.291391  0.892917\n",
      "10    0.256714   0.906188  0.294210  0.889583\n",
      "11    0.249560   0.908125  0.287109  0.892667\n",
      "12    0.239286   0.912625  0.285532  0.895500\n",
      "13    0.235508   0.912312  0.286169  0.895417\n",
      "14    0.226544   0.915292  0.278003  0.898833\n",
      "15    0.220712   0.917583  0.279640  0.897667\n",
      "16    0.214485   0.920562  0.301212  0.889333\n",
      "17    0.208207   0.920813  0.274951  0.901083\n",
      "18    0.201694   0.925146  0.270933  0.900583\n",
      "19    0.198124   0.925271  0.283473  0.899333\n",
      "20    0.192639   0.928542  0.297987  0.891750\n",
      "21    0.186922   0.931167  0.283020  0.903167\n",
      "22    0.184300   0.930667  0.281365  0.901250\n",
      "23    0.177432   0.932583  0.282940  0.902583\n"
     ]
    },
    {
     "data": {
      "image/png": "[encoded data removed]",
      "text/plain": [
       "<Figure size 576x360 with 1 Axes>"
      ]
     },
     "metadata": {
      "needs_background": "light"
     },
     "output_type": "display_data"
    },
    {
     "data": {
      "image/png": "[encoded data removed]",
      "text/plain": [
       "<Figure size 576x360 with 1 Axes>"
      ]
     },
     "metadata": {
      "needs_background": "light"
     },
     "output_type": "display_data"
    }
   ],
   "source": [
    "train_state_df = pd.DataFrame(train_state)\n",
    "print(train_state_df)\n",
    "plot_learning_curves(train_state_df[['train_loss', 'val_loss']], \"Loss Curve\")\n",
    "plot_learning_curves(train_state_df[['train_acc', 'val_acc']], \"Accuracy Curve\")"
   ]
  },
  {
   "cell_type": "code",
   "execution_count": null,
   "id": "finished-indication",
   "metadata": {},
   "outputs": [],
   "source": []
  }
 ],
 "metadata": {
  "kernelspec": {
   "display_name": "torch_dev_kernel",
   "language": "python",
   "name": "torch_dev"
  },
  "language_info": {
   "codemirror_mode": {
    "name": "ipython",
    "version": 3
   },
   "file_extension": ".py",
   "mimetype": "text/x-python",
   "name": "python",
   "nbconvert_exporter": "python",
   "pygments_lexer": "ipython3",
   "version": "3.8.8"
  }
 },
 "nbformat": 4,
 "nbformat_minor": 5
}
