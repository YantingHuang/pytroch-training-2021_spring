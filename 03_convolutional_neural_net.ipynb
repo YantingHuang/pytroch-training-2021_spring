{
 "cells": [
  {
   "cell_type": "code",
   "execution_count": 1,
   "id": "coated-forwarding",
   "metadata": {},
   "outputs": [],
   "source": [
    "import torch\n",
    "import torch.nn as nn\n",
    "import torch.optim as optim\n",
    "import torch.nn.functional as F\n",
    "from torch.utils.data import DataLoader\n",
    "import torchvision.datasets as datasets\n",
    "import torchvision.transforms as transforms\n",
    "\n",
    "import pandas as pd\n",
    "import matplotlib.pyplot as plt\n",
    "\n",
    "import random\n",
    "import multiprocessing"
   ]
  },
  {
   "cell_type": "code",
   "execution_count": 2,
   "id": "sublime-consolidation",
   "metadata": {},
   "outputs": [],
   "source": [
    "# use gpu for training if available\n",
    "device = torch.device(\"cuda\" if torch.cuda.is_available() else \"cpu\")"
   ]
  },
  {
   "cell_type": "markdown",
   "id": "wrong-bolivia",
   "metadata": {},
   "source": [
    "### Model specification"
   ]
  },
  {
   "cell_type": "code",
   "execution_count": 3,
   "id": "christian-prefix",
   "metadata": {},
   "outputs": [],
   "source": [
    "class Conv_net(nn.Module):\n",
    "    def __init__(self, num_classes):\n",
    "        super(Conv_net, self).__init__()\n",
    "        \n",
    "        self.conv1 = nn.Conv2d(in_channels=1, out_channels=6, kernel_size=3)\n",
    "        self.conv2 = nn.Conv2d(6, 12, 4)\n",
    "        self.pool = nn.MaxPool2d(2, 2)\n",
    "        self.fc1 = nn.Linear(12 * 5 * 5, 100)\n",
    "        self.fc2 = nn.Linear(100, num_classes)\n",
    "    \n",
    "    def forward(self, x):\n",
    "        x = F.relu(self.conv1(x)) #（1,28,28）->(6,26,26)\n",
    "        x = self.pool(x) #(6,26,26)->(6,13,13)\n",
    "        x = F.relu(self.conv2(x)) #（6,13,13）->(12,10,10)\n",
    "        x = self.pool(x) #(12,10,10)->(12,5,5)\n",
    "        x = x.view(-1, 12 * 5 * 5)\n",
    "        x = F.relu(self.fc1(x))\n",
    "        x = self.fc2(x)\n",
    "        return x"
   ]
  },
  {
   "cell_type": "markdown",
   "id": "architectural-sphere",
   "metadata": {},
   "source": [
    "### Dimensionality checking with random inputs\n",
    "Recommend to do so to ensure the data flow in your model is as you expected"
   ]
  },
  {
   "cell_type": "code",
   "execution_count": 4,
   "id": "charged-portugal",
   "metadata": {},
   "outputs": [
    {
     "name": "stdout",
     "output_type": "stream",
     "text": [
      "torch.Size([64, 10])\n"
     ]
    }
   ],
   "source": [
    "x = torch.randn(64, 1, 28, 28)\n",
    "model = Conv_net(num_classes=10)\n",
    "out = model(x)\n",
    "print(out.shape)"
   ]
  },
  {
   "cell_type": "markdown",
   "id": "informative-fortune",
   "metadata": {},
   "source": [
    "### Global Variables Specification\n",
    "Configure this part to your preferred setting before you start training"
   ]
  },
  {
   "cell_type": "code",
   "execution_count": 5,
   "id": "western-sleep",
   "metadata": {},
   "outputs": [],
   "source": [
    "num_classes = 10\n",
    "learning_rate = 0.001\n",
    "batch_size = 64\n",
    "num_epochs = 50\n",
    "num_workers = 16 #multiprocessing.cpu_count() \n",
    "apply_dropout = True\n",
    "dropout_p = 0.20\n",
    "apply_bn = True\n",
    "early_stopping_criteria= 5\n",
    "\n",
    "val_proportion = 0.2\n",
    "\n",
    "data_dir = \"/mnt/addtional_data_ssd/pytorch_tutorials/data\" # change this path to your preferred directory to store fashion minst data\n"
   ]
  },
  {
   "cell_type": "markdown",
   "id": "treated-overhead",
   "metadata": {},
   "source": [
    "### Set up Dataset and DataLoader"
   ]
  },
  {
   "cell_type": "code",
   "execution_count": 6,
   "id": "aboriginal-inside",
   "metadata": {},
   "outputs": [
    {
     "name": "stdout",
     "output_type": "stream",
     "text": [
      "number samples in train: 48000\n",
      "number samples in val: 12000\n",
      "number samples in test: 10000\n"
     ]
    }
   ],
   "source": [
    "train_dataset = datasets.FashionMNIST(root=data_dir, train=True, transform=transforms.ToTensor(), download=True)\n",
    "test_dataset  = datasets.FashionMNIST(root=data_dir, train=False, transform=transforms.ToTensor(), download=True)\n",
    "\n",
    "\n",
    "val_size = int(val_proportion*len(train_dataset))\n",
    "train_size = len(train_dataset) - val_size\n",
    "test_size = len(test_dataset)\n",
    "\n",
    "print(f\"number samples in train: {train_size}\")\n",
    "print(f\"number samples in val: {val_size}\")\n",
    "print(f\"number samples in test: {test_size}\")\n",
    "\n",
    "train_dataset, val_dataset = torch.utils.data.random_split(train_dataset, [train_size, val_size])"
   ]
  },
  {
   "cell_type": "code",
   "execution_count": 7,
   "id": "multiple-pittsburgh",
   "metadata": {},
   "outputs": [],
   "source": [
    "train_loader = DataLoader(dataset=train_dataset, batch_size=batch_size, shuffle=True, num_workers=num_workers)\n",
    "val_loader = DataLoader(dataset=val_dataset, batch_size=batch_size, shuffle=False, num_workers=num_workers)\n",
    "test_loader = DataLoader(dataset=test_dataset, batch_size=batch_size, shuffle=False, num_workers=num_workers)"
   ]
  },
  {
   "cell_type": "code",
   "execution_count": 8,
   "id": "express-ecuador",
   "metadata": {},
   "outputs": [
    {
     "name": "stdout",
     "output_type": "stream",
     "text": [
      "input image has shape:\n",
      "torch.Size([1, 28, 28])\n"
     ]
    }
   ],
   "source": [
    "# check the dimensions of the data\n",
    "image, target = train_dataset[0]\n",
    "print(\"input image has shape:\")\n",
    "print(image.shape)"
   ]
  },
  {
   "cell_type": "markdown",
   "id": "fallen-frost",
   "metadata": {},
   "source": [
    "### Model Initialization, Loss, Optimizer"
   ]
  },
  {
   "cell_type": "code",
   "execution_count": 9,
   "id": "sharp-smooth",
   "metadata": {},
   "outputs": [
    {
     "name": "stdout",
     "output_type": "stream",
     "text": [
      "Conv_net(\n",
      "  (conv1): Conv2d(1, 6, kernel_size=(3, 3), stride=(1, 1))\n",
      "  (conv2): Conv2d(6, 12, kernel_size=(4, 4), stride=(1, 1))\n",
      "  (pool): MaxPool2d(kernel_size=2, stride=2, padding=0, dilation=1, ceil_mode=False)\n",
      "  (fc1): Linear(in_features=300, out_features=100, bias=True)\n",
      "  (fc2): Linear(in_features=100, out_features=10, bias=True)\n",
      ")\n"
     ]
    }
   ],
   "source": [
    "# instantiate the model\n",
    "clf = Conv_net(num_classes=num_classes)\n",
    "clf.to(device) # move the model to gpu if available\n",
    "print(clf)\n",
    "\n",
    "# instantiate the loss and the optimizer\n",
    "criterion = nn.CrossEntropyLoss()\n",
    "optimizer = optim.Adam(clf.parameters(), lr=learning_rate)"
   ]
  },
  {
   "cell_type": "markdown",
   "id": "correct-coral",
   "metadata": {},
   "source": [
    "### Initialize a dictionary to record training progress"
   ]
  },
  {
   "cell_type": "code",
   "execution_count": 10,
   "id": "passive-showcase",
   "metadata": {},
   "outputs": [],
   "source": [
    "train_state = {\n",
    "    \"train_loss\": [],\n",
    "    \"train_acc\": [],\n",
    "    \"val_loss\": [],\n",
    "    \"val_acc\": []\n",
    "}"
   ]
  },
  {
   "cell_type": "markdown",
   "id": "complicated-voluntary",
   "metadata": {},
   "source": [
    "### Train the model"
   ]
  },
  {
   "cell_type": "code",
   "execution_count": 11,
   "id": "emerging-spiritual",
   "metadata": {},
   "outputs": [
    {
     "name": "stdout",
     "output_type": "stream",
     "text": [
      "[epoch 0 step 199] running training loss: 1.120\n",
      "[epoch 0 step 399] running training loss: 0.647\n",
      "[epoch 0 step 599] running training loss: 0.553\n",
      "[epoch 0] val loss: 0.472, accuracy: 82.300%\n",
      "current best validation loss: 0.472\n",
      "--------------------------------------------\n",
      "[epoch 1 step 199] running training loss: 0.488\n",
      "[epoch 1 step 399] running training loss: 0.455\n",
      "[epoch 1 step 599] running training loss: 0.451\n",
      "[epoch 1] val loss: 0.402, accuracy: 85.700%\n",
      "current best validation loss: 0.402\n",
      "--------------------------------------------\n",
      "[epoch 2 step 199] running training loss: 0.402\n",
      "[epoch 2 step 399] running training loss: 0.417\n",
      "[epoch 2 step 599] running training loss: 0.391\n",
      "[epoch 2] val loss: 0.371, accuracy: 86.233%\n",
      "current best validation loss: 0.371\n",
      "--------------------------------------------\n",
      "[epoch 3 step 199] running training loss: 0.375\n",
      "[epoch 3 step 399] running training loss: 0.367\n",
      "[epoch 3 step 599] running training loss: 0.346\n",
      "[epoch 3] val loss: 0.333, accuracy: 88.267%\n",
      "current best validation loss: 0.333\n",
      "--------------------------------------------\n",
      "[epoch 4 step 199] running training loss: 0.344\n",
      "[epoch 4 step 399] running training loss: 0.340\n",
      "[epoch 4 step 599] running training loss: 0.327\n",
      "[epoch 4] val loss: 0.321, accuracy: 88.650%\n",
      "current best validation loss: 0.321\n",
      "--------------------------------------------\n",
      "[epoch 5 step 199] running training loss: 0.318\n",
      "[epoch 5 step 399] running training loss: 0.314\n",
      "[epoch 5 step 599] running training loss: 0.310\n",
      "[epoch 5] val loss: 0.305, accuracy: 89.183%\n",
      "current best validation loss: 0.305\n",
      "--------------------------------------------\n",
      "[epoch 6 step 199] running training loss: 0.296\n",
      "[epoch 6 step 399] running training loss: 0.308\n",
      "[epoch 6 step 599] running training loss: 0.295\n",
      "[epoch 6] val loss: 0.299, accuracy: 89.433%\n",
      "current best validation loss: 0.299\n",
      "--------------------------------------------\n",
      "[epoch 7 step 199] running training loss: 0.295\n",
      "[epoch 7 step 399] running training loss: 0.281\n",
      "[epoch 7 step 599] running training loss: 0.293\n",
      "[epoch 7] val loss: 0.294, accuracy: 89.342%\n",
      "current best validation loss: 0.294\n",
      "--------------------------------------------\n",
      "[epoch 8 step 199] running training loss: 0.275\n",
      "[epoch 8 step 399] running training loss: 0.277\n",
      "[epoch 8 step 599] running training loss: 0.275\n",
      "[epoch 8] val loss: 0.291, accuracy: 89.225%\n",
      "current best validation loss: 0.291\n",
      "--------------------------------------------\n",
      "[epoch 9 step 199] running training loss: 0.269\n",
      "[epoch 9 step 399] running training loss: 0.263\n",
      "[epoch 9 step 599] running training loss: 0.273\n",
      "[epoch 9] val loss: 0.298, accuracy: 88.942%\n",
      "validation loss stops decreasing for 1 epoch\n",
      "--------------------------------------------\n",
      "[epoch 10 step 199] running training loss: 0.259\n",
      "[epoch 10 step 399] running training loss: 0.261\n",
      "[epoch 10 step 599] running training loss: 0.249\n",
      "[epoch 10] val loss: 0.273, accuracy: 90.125%\n",
      "current best validation loss: 0.273\n",
      "--------------------------------------------\n",
      "[epoch 11 step 199] running training loss: 0.248\n",
      "[epoch 11 step 399] running training loss: 0.248\n",
      "[epoch 11 step 599] running training loss: 0.257\n",
      "[epoch 11] val loss: 0.288, accuracy: 89.358%\n",
      "validation loss stops decreasing for 1 epoch\n",
      "--------------------------------------------\n",
      "[epoch 12 step 199] running training loss: 0.236\n",
      "[epoch 12 step 399] running training loss: 0.244\n",
      "[epoch 12 step 599] running training loss: 0.246\n",
      "[epoch 12] val loss: 0.268, accuracy: 90.233%\n",
      "current best validation loss: 0.268\n",
      "--------------------------------------------\n",
      "[epoch 13 step 199] running training loss: 0.238\n",
      "[epoch 13 step 399] running training loss: 0.242\n",
      "[epoch 13 step 599] running training loss: 0.232\n",
      "[epoch 13] val loss: 0.275, accuracy: 89.917%\n",
      "validation loss stops decreasing for 1 epoch\n",
      "--------------------------------------------\n",
      "[epoch 14 step 199] running training loss: 0.239\n",
      "[epoch 14 step 399] running training loss: 0.228\n",
      "[epoch 14 step 599] running training loss: 0.229\n",
      "[epoch 14] val loss: 0.269, accuracy: 90.050%\n",
      "validation loss stops decreasing for 2 epoch\n",
      "--------------------------------------------\n",
      "[epoch 15 step 199] running training loss: 0.219\n",
      "[epoch 15 step 399] running training loss: 0.229\n",
      "[epoch 15 step 599] running training loss: 0.226\n",
      "[epoch 15] val loss: 0.278, accuracy: 89.883%\n",
      "validation loss stops decreasing for 3 epoch\n",
      "--------------------------------------------\n",
      "[epoch 16 step 199] running training loss: 0.213\n",
      "[epoch 16 step 399] running training loss: 0.230\n",
      "[epoch 16 step 599] running training loss: 0.216\n",
      "[epoch 16] val loss: 0.279, accuracy: 89.900%\n",
      "validation loss stops decreasing for 4 epoch\n",
      "--------------------------------------------\n",
      "[epoch 17 step 199] running training loss: 0.211\n",
      "[epoch 17 step 399] running training loss: 0.214\n",
      "[epoch 17 step 599] running training loss: 0.219\n",
      "[epoch 17] val loss: 0.267, accuracy: 90.483%\n",
      "current best validation loss: 0.267\n",
      "--------------------------------------------\n",
      "[epoch 18 step 199] running training loss: 0.205\n",
      "[epoch 18 step 399] running training loss: 0.212\n",
      "[epoch 18 step 599] running training loss: 0.202\n",
      "[epoch 18] val loss: 0.262, accuracy: 90.550%\n",
      "current best validation loss: 0.262\n",
      "--------------------------------------------\n",
      "[epoch 19 step 199] running training loss: 0.200\n",
      "[epoch 19 step 399] running training loss: 0.203\n",
      "[epoch 19 step 599] running training loss: 0.210\n",
      "[epoch 19] val loss: 0.262, accuracy: 90.383%\n",
      "current best validation loss: 0.262\n",
      "--------------------------------------------\n",
      "[epoch 20 step 199] running training loss: 0.198\n",
      "[epoch 20 step 399] running training loss: 0.191\n",
      "[epoch 20 step 599] running training loss: 0.211\n",
      "[epoch 20] val loss: 0.262, accuracy: 90.558%\n",
      "current best validation loss: 0.262\n",
      "--------------------------------------------\n",
      "[epoch 21 step 199] running training loss: 0.180\n",
      "[epoch 21 step 399] running training loss: 0.192\n",
      "[epoch 21 step 599] running training loss: 0.207\n",
      "[epoch 21] val loss: 0.267, accuracy: 90.533%\n",
      "validation loss stops decreasing for 1 epoch\n",
      "--------------------------------------------\n",
      "[epoch 22 step 199] running training loss: 0.185\n",
      "[epoch 22 step 399] running training loss: 0.184\n",
      "[epoch 22 step 599] running training loss: 0.204\n",
      "[epoch 22] val loss: 0.261, accuracy: 90.942%\n",
      "current best validation loss: 0.261\n",
      "--------------------------------------------\n",
      "[epoch 23 step 199] running training loss: 0.187\n",
      "[epoch 23 step 399] running training loss: 0.189\n",
      "[epoch 23 step 599] running training loss: 0.190\n",
      "[epoch 23] val loss: 0.267, accuracy: 90.658%\n",
      "validation loss stops decreasing for 1 epoch\n",
      "--------------------------------------------\n",
      "[epoch 24 step 199] running training loss: 0.183\n",
      "[epoch 24 step 399] running training loss: 0.181\n",
      "[epoch 24 step 599] running training loss: 0.180\n",
      "[epoch 24] val loss: 0.265, accuracy: 91.117%\n",
      "validation loss stops decreasing for 2 epoch\n",
      "--------------------------------------------\n",
      "[epoch 25 step 199] running training loss: 0.175\n",
      "[epoch 25 step 399] running training loss: 0.180\n",
      "[epoch 25 step 599] running training loss: 0.180\n",
      "[epoch 25] val loss: 0.272, accuracy: 90.583%\n",
      "validation loss stops decreasing for 3 epoch\n",
      "--------------------------------------------\n",
      "[epoch 26 step 199] running training loss: 0.175\n",
      "[epoch 26 step 399] running training loss: 0.174\n",
      "[epoch 26 step 599] running training loss: 0.180\n",
      "[epoch 26] val loss: 0.271, accuracy: 90.650%\n",
      "validation loss stops decreasing for 4 epoch\n",
      "--------------------------------------------\n",
      "[epoch 27 step 199] running training loss: 0.161\n",
      "[epoch 27 step 399] running training loss: 0.162\n",
      "[epoch 27 step 599] running training loss: 0.189\n",
      "[epoch 27] val loss: 0.278, accuracy: 90.200%\n",
      "validation loss stops decreasing for 5 epoch\n",
      "early stopping criteria reached\n"
     ]
    }
   ],
   "source": [
    "best_val_loss = float('inf')\n",
    "early_stopping_step = 0\n",
    "\n",
    "for epoch in range(num_epochs):\n",
    "    running_train_loss = 0.0 # running loss for every 200 steps during training\n",
    "    train_loss = 0.0 # accumulated training loss for the entire epoch\n",
    "    num_train_samples = 0 \n",
    "    correct = 0\n",
    "    clf.train() # switch to training mode\n",
    "    for batch_idx, (images, targets) in enumerate(train_loader):\n",
    "        # transfer data to gpu if available\n",
    "        images, targets = images.to(device), targets.to(device)\n",
    "        #print(images.shape, targets.shape)\n",
    "        \n",
    "        # reshape the images to proper shape\n",
    "        batch_size = images.shape[0]\n",
    "        \n",
    "        # forward pass\n",
    "        preds = clf(images)\n",
    "        loss = criterion(preds, targets)\n",
    "        \n",
    "        # back prop\n",
    "        optimizer.zero_grad()\n",
    "        loss.backward()\n",
    "        \n",
    "        # update model params\n",
    "        optimizer.step()\n",
    "        \n",
    "        # evaluate performance for each batch\n",
    "        running_train_loss += loss.item()\n",
    "        train_loss += loss.item() * batch_size\n",
    "        num_train_samples += batch_size\n",
    "        _, pred_labels = torch.max(preds, dim=1)\n",
    "        correct += (pred_labels==targets).sum().item()\n",
    "\n",
    "        # print training stat every 200 steps\n",
    "        if ((batch_idx+1) % 200==0):\n",
    "            print(f\"[epoch {epoch} step {batch_idx}] running training loss: {running_train_loss/200:.3f}\")\n",
    "            running_train_loss = 0.0\n",
    "    \n",
    "    epoch_train_loss= train_loss/num_train_samples\n",
    "    epoch_train_acc= correct/num_train_samples\n",
    "            \n",
    "    # evaluate on the validation set every epoch\n",
    "    clf.eval() # switch to evaluation mode\n",
    "    val_loss = 0.0\n",
    "    num_val_samples = 0 \n",
    "    correct = 0\n",
    "    for images, targets in val_loader:\n",
    "        images, targets = images.to(device), targets.to(device)\n",
    "        batch_size = images.shape[0]\n",
    "        preds = clf(images)\n",
    "        loss = criterion(preds, targets)\n",
    "        val_loss += loss.item() * images.shape[0]\n",
    "        num_val_samples += batch_size\n",
    "        # calculate accuracy\n",
    "        preds = clf(images)\n",
    "        _, pred_labels = torch.max(preds, dim=1)\n",
    "        correct += (pred_labels==targets).sum().item()\n",
    "    epoch_val_loss= val_loss/num_val_samples\n",
    "    epoch_val_acc= correct/num_val_samples\n",
    "    print(f\"[epoch {epoch}] val loss: {epoch_val_loss:.3f}, accuracy: {100*epoch_val_acc:.3f}%\")\n",
    "    \n",
    "    # update train_state dict\n",
    "    train_state['train_loss'].append(epoch_train_loss)\n",
    "    train_state['train_acc'].append(epoch_train_acc)\n",
    "    train_state['val_loss'].append(epoch_val_loss)\n",
    "    train_state['val_acc'].append(epoch_val_acc)\n",
    "    \n",
    "    # early stopping\n",
    "    if (epoch_val_loss < best_val_loss):\n",
    "        best_val_loss = epoch_val_loss\n",
    "        early_stopping_step = 0\n",
    "        print(f\"current best validation loss: {best_val_loss:.3f}\")\n",
    "    else:\n",
    "        early_stopping_step += 1\n",
    "        print(f\"validation loss stops decreasing for {early_stopping_step} epoch\")\n",
    "        if (early_stopping_step==early_stopping_criteria):\n",
    "            print(\"early stopping criteria reached\")\n",
    "            break\n",
    "    print(\"--------------------------------------------\")\n",
    "            "
   ]
  },
  {
   "cell_type": "markdown",
   "id": "hairy-honey",
   "metadata": {},
   "source": [
    "### Test the network on the test data"
   ]
  },
  {
   "cell_type": "code",
   "execution_count": 12,
   "id": "accompanied-invitation",
   "metadata": {},
   "outputs": [
    {
     "name": "stdout",
     "output_type": "stream",
     "text": [
      "testing loss: 0.288, testing accuracy: 89.980%\n"
     ]
    }
   ],
   "source": [
    "clf.eval()\n",
    "test_loss = 0.0\n",
    "num_test_samples = 0 \n",
    "correct = 0\n",
    "for images, targets in test_loader:\n",
    "    images, targets = images.to(device), targets.to(device)\n",
    "    batch_size = images.shape[0]\n",
    "    preds = clf(images)\n",
    "    loss = criterion(preds, targets)\n",
    "    test_loss += loss.item() * images.shape[0]\n",
    "    num_test_samples += batch_size\n",
    "    # calculate accuracy\n",
    "    preds = clf(images)\n",
    "    _, pred_labels = torch.max(preds, dim=1)\n",
    "    correct += (pred_labels==targets).sum().item()\n",
    "print(f\"testing loss: {test_loss/num_test_samples:.3f}, testing accuracy: {100*correct/num_test_samples:.3f}%\")\n"
   ]
  },
  {
   "cell_type": "markdown",
   "id": "partial-company",
   "metadata": {},
   "source": [
    "### Plot learning curve"
   ]
  },
  {
   "cell_type": "code",
   "execution_count": 13,
   "id": "controversial-dutch",
   "metadata": {},
   "outputs": [],
   "source": [
    "def plot_learning_curves(train_hist_df, title):\n",
    "    num_epoch = train_hist_df.shape[0]\n",
    "    train_hist_df.plot(figsize=(8, 5), title=title, xticks=range(1, num_epoch+1, 3))\n",
    "    plt.grid(True)\n",
    "    ymin, ymax = 0.95 * train_hist_df.values.min(), min(1.1 * train_hist_df.values.max(), 1.0)\n",
    "    plt.gca().set_ylim(ymin, ymax)\n",
    "    plt.show()"
   ]
  },
  {
   "cell_type": "code",
   "execution_count": 14,
   "id": "greater-visiting",
   "metadata": {},
   "outputs": [
    {
     "name": "stdout",
     "output_type": "stream",
     "text": [
      "    train_loss  train_acc  val_loss   val_acc\n",
      "0     0.720761   0.739437  0.472284  0.823000\n",
      "1     0.457800   0.833771  0.401955  0.857000\n",
      "2     0.397001   0.855583  0.371467  0.862333\n",
      "3     0.360911   0.869313  0.332891  0.882667\n",
      "4     0.335981   0.878729  0.321455  0.886500\n",
      "5     0.313601   0.885000  0.304614  0.891833\n",
      "6     0.298534   0.890646  0.299353  0.894333\n",
      "7     0.288603   0.894938  0.294078  0.893417\n",
      "8     0.276455   0.898583  0.291087  0.892250\n",
      "9     0.268241   0.901250  0.297727  0.889417\n",
      "10    0.257035   0.906167  0.273191  0.901250\n",
      "11    0.251720   0.907000  0.287991  0.893583\n",
      "12    0.243016   0.909979  0.268452  0.902333\n",
      "13    0.237246   0.913354  0.275085  0.899167\n",
      "14    0.232572   0.913500  0.269250  0.900500\n",
      "15    0.224774   0.917271  0.277835  0.898833\n",
      "16    0.219461   0.917917  0.279426  0.899000\n",
      "17    0.214667   0.919708  0.267369  0.904833\n",
      "18    0.208411   0.922333  0.262449  0.905500\n",
      "19    0.204763   0.923687  0.262278  0.903833\n",
      "20    0.200390   0.924771  0.261903  0.905583\n",
      "21    0.195694   0.926521  0.267489  0.905333\n",
      "22    0.191353   0.928063  0.261422  0.909417\n",
      "23    0.187324   0.930354  0.267423  0.906583\n",
      "24    0.180807   0.931917  0.264877  0.911167\n",
      "25    0.179801   0.933021  0.271767  0.905833\n",
      "26    0.175810   0.934729  0.271331  0.906500\n",
      "27    0.170763   0.935771  0.277634  0.902000\n"
     ]
    },
    {
     "data": {
      "image/png": "[encoded data removed]",
      "text/plain": [
       "<Figure size 576x360 with 1 Axes>"
      ]
     },
     "metadata": {
      "needs_background": "light"
     },
     "output_type": "display_data"
    },
    {
     "data": {
      "image/png": "[encoded data removed]",
      "text/plain": [
       "<Figure size 576x360 with 1 Axes>"
      ]
     },
     "metadata": {
      "needs_background": "light"
     },
     "output_type": "display_data"
    }
   ],
   "source": [
    "train_state_df = pd.DataFrame(train_state)\n",
    "print(train_state_df)\n",
    "plot_learning_curves(train_state_df[['train_loss', 'val_loss']], \"Loss Curve\")\n",
    "plot_learning_curves(train_state_df[['train_acc', 'val_acc']], \"Accuracy Curve\")"
   ]
  },
  {
   "cell_type": "code",
   "execution_count": null,
   "id": "finished-indication",
   "metadata": {},
   "outputs": [],
   "source": []
  }
 ],
 "metadata": {
  "kernelspec": {
   "display_name": "torch_dev_kernel",
   "language": "python",
   "name": "torch_dev"
  },
  "language_info": {
   "codemirror_mode": {
    "name": "ipython",
    "version": 3
   },
   "file_extension": ".py",
   "mimetype": "text/x-python",
   "name": "python",
   "nbconvert_exporter": "python",
   "pygments_lexer": "ipython3",
   "version": "3.8.8"
  }
 },
 "nbformat": 4,
 "nbformat_minor": 5
}
