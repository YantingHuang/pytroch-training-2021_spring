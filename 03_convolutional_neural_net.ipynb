{
 "cells": [
  {
   "cell_type": "code",
   "execution_count": 1,
   "id": "coated-forwarding",
   "metadata": {},
   "outputs": [],
   "source": [
    "import torch\n",
    "import torch.nn as nn\n",
    "import torch.optim as optim\n",
    "import torch.nn.functional as F\n",
    "from torch.utils.data import DataLoader\n",
    "import torchvision.datasets as datasets\n",
    "import torchvision.transforms as transforms\n",
    "\n",
    "import pandas as pd\n",
    "import matplotlib.pyplot as plt\n",
    "\n",
    "import random\n",
    "import sys, os\n",
    "import multiprocessing"
   ]
  },
  {
   "cell_type": "code",
   "execution_count": 2,
   "id": "sublime-consolidation",
   "metadata": {},
   "outputs": [],
   "source": [
    "# use gpu for training if available\n",
    "device = torch.device(\"cuda\" if torch.cuda.is_available() else \"cpu\")"
   ]
  },
  {
   "cell_type": "markdown",
   "id": "wrong-bolivia",
   "metadata": {},
   "source": [
    "### Model specification\n",
    "Dimension calculation in the 2D convolution layer<br>\n",
    "n_out = (n_in + 2p - k)/s + 1 <br>\n",
    "\n",
    "where,<br>\n",
    "n_in: number of input features<br>\n",
    "n_out: number of output features<br>\n",
    "k: convolution kernel size<br>\n",
    "p: convolution padding size<br>\n",
    "s: convolution stride size<br>"
   ]
  },
  {
   "cell_type": "code",
   "execution_count": 3,
   "id": "christian-prefix",
   "metadata": {},
   "outputs": [],
   "source": [
    "class Conv_net(nn.Module):\n",
    "    def __init__(self, in_channels, num_classes):\n",
    "        super(Conv_net, self).__init__()\n",
    "        \n",
    "        self.conv1 = nn.Conv2d(in_channels=in_channels, out_channels=6, kernel_size=3)\n",
    "        self.conv2 = nn.Conv2d(6, 12, 4)\n",
    "        self.pool = nn.MaxPool2d(2, 2)\n",
    "        self.fc1 = nn.Linear(12 * 5 * 5, 100)\n",
    "        self.fc2 = nn.Linear(100, num_classes)\n",
    "    \n",
    "    def forward(self, x):\n",
    "        x = F.relu(self.conv1(x)) #（1,28,28）->(6,26,26)\n",
    "        x = self.pool(x) #(6,26,26)->(6,13,13)\n",
    "        x = F.relu(self.conv2(x)) #（6,13,13）->(12,10,10)\n",
    "        x = self.pool(x) #(12,10,10)->(12,5,5)\n",
    "        x = x.view(-1, 12 * 5 * 5)\n",
    "        x = F.relu(self.fc1(x))\n",
    "        x = self.fc2(x)\n",
    "        return x"
   ]
  },
  {
   "cell_type": "markdown",
   "id": "architectural-sphere",
   "metadata": {},
   "source": [
    "### Dimensionality checking with random inputs\n",
    "Recommend to do so to ensure the data flow in your model is as you expected"
   ]
  },
  {
   "cell_type": "code",
   "execution_count": 4,
   "id": "charged-portugal",
   "metadata": {},
   "outputs": [
    {
     "name": "stdout",
     "output_type": "stream",
     "text": [
      "torch.Size([64, 10])\n"
     ]
    }
   ],
   "source": [
    "x = torch.randn(64, 1, 28, 28)\n",
    "model = Conv_net(in_channels=1, num_classes=10)\n",
    "out = model(x)\n",
    "print(out.shape)"
   ]
  },
  {
   "cell_type": "markdown",
   "id": "informative-fortune",
   "metadata": {},
   "source": [
    "### Global Variables Specification\n",
    "Configure this part to your preferred setting before you start training"
   ]
  },
  {
   "cell_type": "code",
   "execution_count": 5,
   "id": "western-sleep",
   "metadata": {},
   "outputs": [],
   "source": [
    "num_classes = 10\n",
    "learning_rate = 0.001\n",
    "batch_size = 64\n",
    "num_epochs = 50\n",
    "num_workers = 16 # multiprocessing.cpu_count() \n",
    "in_channels = 1 # fashion-mnist only has 1 channel\n",
    "early_stopping_criteria= 5\n",
    "\n",
    "val_proportion = 0.2\n",
    "\n",
    "data_dir = \"/mnt/addtional_data_ssd/pytorch_tutorials/data\" # change this path to your preferred directory to store fashion minst data\n",
    "model_dir = \"/mnt/addtional_data_ssd/pytorch_tutorials/model\" \n",
    "\n",
    "saved_model_fn = os.path.join(model_dir, \"best_cnn_fmnist_model.pt\")"
   ]
  },
  {
   "cell_type": "markdown",
   "id": "treated-overhead",
   "metadata": {},
   "source": [
    "### Set up Dataset and DataLoader"
   ]
  },
  {
   "cell_type": "code",
   "execution_count": 6,
   "id": "aboriginal-inside",
   "metadata": {},
   "outputs": [
    {
     "name": "stdout",
     "output_type": "stream",
     "text": [
      "number samples in train: 48000\n",
      "number samples in val: 12000\n",
      "number samples in test: 10000\n"
     ]
    }
   ],
   "source": [
    "train_dataset = datasets.FashionMNIST(root=data_dir, train=True, transform=transforms.ToTensor(), download=True)\n",
    "test_dataset  = datasets.FashionMNIST(root=data_dir, train=False, transform=transforms.ToTensor(), download=True)\n",
    "\n",
    "\n",
    "val_size = int(val_proportion*len(train_dataset))\n",
    "train_size = len(train_dataset) - val_size\n",
    "test_size = len(test_dataset)\n",
    "\n",
    "print(f\"number samples in train: {train_size}\")\n",
    "print(f\"number samples in val: {val_size}\")\n",
    "print(f\"number samples in test: {test_size}\")\n",
    "\n",
    "train_dataset, val_dataset = torch.utils.data.random_split(train_dataset, [train_size, val_size])"
   ]
  },
  {
   "cell_type": "code",
   "execution_count": 7,
   "id": "multiple-pittsburgh",
   "metadata": {},
   "outputs": [],
   "source": [
    "train_loader = DataLoader(dataset=train_dataset, batch_size=batch_size, shuffle=True, num_workers=num_workers)\n",
    "val_loader = DataLoader(dataset=val_dataset, batch_size=batch_size, shuffle=False, num_workers=num_workers)\n",
    "test_loader = DataLoader(dataset=test_dataset, batch_size=batch_size, shuffle=False, num_workers=num_workers)"
   ]
  },
  {
   "cell_type": "code",
   "execution_count": 8,
   "id": "express-ecuador",
   "metadata": {},
   "outputs": [
    {
     "name": "stdout",
     "output_type": "stream",
     "text": [
      "input image has shape:\n",
      "torch.Size([1, 28, 28])\n"
     ]
    }
   ],
   "source": [
    "# check the dimensions of the data\n",
    "image, target = train_dataset[0]\n",
    "print(\"input image has shape:\")\n",
    "print(image.shape)"
   ]
  },
  {
   "cell_type": "markdown",
   "id": "handled-angle",
   "metadata": {},
   "source": [
    "### Model Initialization, Loss, Optimizer"
   ]
  },
  {
   "cell_type": "code",
   "execution_count": 9,
   "id": "sharp-smooth",
   "metadata": {},
   "outputs": [
    {
     "name": "stdout",
     "output_type": "stream",
     "text": [
      "Conv_net(\n",
      "  (conv1): Conv2d(1, 6, kernel_size=(3, 3), stride=(1, 1))\n",
      "  (conv2): Conv2d(6, 12, kernel_size=(4, 4), stride=(1, 1))\n",
      "  (pool): MaxPool2d(kernel_size=2, stride=2, padding=0, dilation=1, ceil_mode=False)\n",
      "  (fc1): Linear(in_features=300, out_features=100, bias=True)\n",
      "  (fc2): Linear(in_features=100, out_features=10, bias=True)\n",
      ")\n"
     ]
    }
   ],
   "source": [
    "# instantiate the model\n",
    "clf = Conv_net(in_channels=in_channels, num_classes=num_classes)\n",
    "clf.to(device) # move the model to gpu if available\n",
    "print(clf)\n",
    "\n",
    "# instantiate the loss and the optimizer\n",
    "criterion = nn.CrossEntropyLoss()\n",
    "optimizer = optim.Adam(clf.parameters(), lr=learning_rate)"
   ]
  },
  {
   "cell_type": "markdown",
   "id": "correct-coral",
   "metadata": {},
   "source": [
    "### Initialize a dictionary to record training progress"
   ]
  },
  {
   "cell_type": "code",
   "execution_count": 10,
   "id": "passive-showcase",
   "metadata": {},
   "outputs": [],
   "source": [
    "train_state = {\n",
    "    \"train_loss\": [],\n",
    "    \"train_acc\": [],\n",
    "    \"val_loss\": [],\n",
    "    \"val_acc\": []\n",
    "}"
   ]
  },
  {
   "cell_type": "markdown",
   "id": "complicated-voluntary",
   "metadata": {},
   "source": [
    "### Train the model\n",
    "[Model saving and loading](https://pytorch.org/tutorials/beginner/saving_loading_models.html)"
   ]
  },
  {
   "cell_type": "code",
   "execution_count": 11,
   "id": "emerging-spiritual",
   "metadata": {},
   "outputs": [
    {
     "name": "stdout",
     "output_type": "stream",
     "text": [
      "[epoch 0 step 199] running training loss: 1.178\n",
      "[epoch 0 step 399] running training loss: 0.661\n",
      "[epoch 0 step 599] running training loss: 0.576\n",
      "[epoch 0] val loss: 0.496, accuracy: 81.050%\n",
      "current best validation loss: 0.496\n",
      "=====>save the best model\n",
      "--------------------------------------------\n",
      "[epoch 1 step 199] running training loss: 0.498\n",
      "[epoch 1 step 399] running training loss: 0.482\n",
      "[epoch 1 step 599] running training loss: 0.446\n",
      "[epoch 1] val loss: 0.412, accuracy: 85.500%\n",
      "current best validation loss: 0.412\n",
      "=====>save the best model\n",
      "--------------------------------------------\n",
      "[epoch 2 step 199] running training loss: 0.412\n",
      "[epoch 2 step 399] running training loss: 0.411\n",
      "[epoch 2 step 599] running training loss: 0.397\n",
      "[epoch 2] val loss: 0.370, accuracy: 86.792%\n",
      "current best validation loss: 0.370\n",
      "=====>save the best model\n",
      "--------------------------------------------\n",
      "[epoch 3 step 199] running training loss: 0.372\n",
      "[epoch 3 step 399] running training loss: 0.356\n",
      "[epoch 3 step 599] running training loss: 0.371\n",
      "[epoch 3] val loss: 0.349, accuracy: 87.550%\n",
      "current best validation loss: 0.349\n",
      "=====>save the best model\n",
      "--------------------------------------------\n",
      "[epoch 4 step 199] running training loss: 0.346\n",
      "[epoch 4 step 399] running training loss: 0.338\n",
      "[epoch 4 step 599] running training loss: 0.340\n",
      "[epoch 4] val loss: 0.324, accuracy: 88.392%\n",
      "current best validation loss: 0.324\n",
      "=====>save the best model\n",
      "--------------------------------------------\n",
      "[epoch 5 step 199] running training loss: 0.310\n",
      "[epoch 5 step 399] running training loss: 0.317\n",
      "[epoch 5 step 599] running training loss: 0.329\n",
      "[epoch 5] val loss: 0.316, accuracy: 88.325%\n",
      "current best validation loss: 0.316\n",
      "=====>save the best model\n",
      "--------------------------------------------\n",
      "[epoch 6 step 199] running training loss: 0.299\n",
      "[epoch 6 step 399] running training loss: 0.310\n",
      "[epoch 6 step 599] running training loss: 0.304\n",
      "[epoch 6] val loss: 0.313, accuracy: 88.575%\n",
      "current best validation loss: 0.313\n",
      "=====>save the best model\n",
      "--------------------------------------------\n",
      "[epoch 7 step 199] running training loss: 0.294\n",
      "[epoch 7 step 399] running training loss: 0.293\n",
      "[epoch 7 step 599] running training loss: 0.280\n",
      "[epoch 7] val loss: 0.289, accuracy: 89.600%\n",
      "current best validation loss: 0.289\n",
      "=====>save the best model\n",
      "--------------------------------------------\n",
      "[epoch 8 step 199] running training loss: 0.284\n",
      "[epoch 8 step 399] running training loss: 0.275\n",
      "[epoch 8 step 599] running training loss: 0.280\n",
      "[epoch 8] val loss: 0.282, accuracy: 89.733%\n",
      "current best validation loss: 0.282\n",
      "=====>save the best model\n",
      "--------------------------------------------\n",
      "[epoch 9 step 199] running training loss: 0.268\n",
      "[epoch 9 step 399] running training loss: 0.269\n",
      "[epoch 9 step 599] running training loss: 0.264\n",
      "[epoch 9] val loss: 0.301, accuracy: 88.875%\n",
      "validation loss stops decreasing for 1 epoch\n",
      "--------------------------------------------\n",
      "[epoch 10 step 199] running training loss: 0.258\n",
      "[epoch 10 step 399] running training loss: 0.260\n",
      "[epoch 10 step 599] running training loss: 0.262\n",
      "[epoch 10] val loss: 0.292, accuracy: 89.333%\n",
      "validation loss stops decreasing for 2 epoch\n",
      "--------------------------------------------\n",
      "[epoch 11 step 199] running training loss: 0.247\n",
      "[epoch 11 step 399] running training loss: 0.242\n",
      "[epoch 11 step 599] running training loss: 0.254\n",
      "[epoch 11] val loss: 0.278, accuracy: 89.925%\n",
      "current best validation loss: 0.278\n",
      "=====>save the best model\n",
      "--------------------------------------------\n",
      "[epoch 12 step 199] running training loss: 0.231\n",
      "[epoch 12 step 399] running training loss: 0.242\n",
      "[epoch 12 step 599] running training loss: 0.245\n",
      "[epoch 12] val loss: 0.272, accuracy: 89.950%\n",
      "current best validation loss: 0.272\n",
      "=====>save the best model\n",
      "--------------------------------------------\n",
      "[epoch 13 step 199] running training loss: 0.235\n",
      "[epoch 13 step 399] running training loss: 0.242\n",
      "[epoch 13 step 599] running training loss: 0.230\n",
      "[epoch 13] val loss: 0.279, accuracy: 89.700%\n",
      "validation loss stops decreasing for 1 epoch\n",
      "--------------------------------------------\n",
      "[epoch 14 step 199] running training loss: 0.223\n",
      "[epoch 14 step 399] running training loss: 0.231\n",
      "[epoch 14 step 599] running training loss: 0.232\n",
      "[epoch 14] val loss: 0.262, accuracy: 90.575%\n",
      "current best validation loss: 0.262\n",
      "=====>save the best model\n",
      "--------------------------------------------\n",
      "[epoch 15 step 199] running training loss: 0.222\n",
      "[epoch 15 step 399] running training loss: 0.210\n",
      "[epoch 15 step 599] running training loss: 0.229\n",
      "[epoch 15] val loss: 0.260, accuracy: 90.550%\n",
      "current best validation loss: 0.260\n",
      "=====>save the best model\n",
      "--------------------------------------------\n",
      "[epoch 16 step 199] running training loss: 0.226\n",
      "[epoch 16 step 399] running training loss: 0.206\n",
      "[epoch 16 step 599] running training loss: 0.212\n",
      "[epoch 16] val loss: 0.260, accuracy: 90.692%\n",
      "validation loss stops decreasing for 1 epoch\n",
      "--------------------------------------------\n",
      "[epoch 17 step 199] running training loss: 0.209\n",
      "[epoch 17 step 399] running training loss: 0.210\n",
      "[epoch 17 step 599] running training loss: 0.213\n",
      "[epoch 17] val loss: 0.260, accuracy: 90.725%\n",
      "current best validation loss: 0.260\n",
      "=====>save the best model\n",
      "--------------------------------------------\n",
      "[epoch 18 step 199] running training loss: 0.199\n",
      "[epoch 18 step 399] running training loss: 0.196\n",
      "[epoch 18 step 599] running training loss: 0.202\n",
      "[epoch 18] val loss: 0.259, accuracy: 90.958%\n",
      "current best validation loss: 0.259\n",
      "=====>save the best model\n",
      "--------------------------------------------\n",
      "[epoch 19 step 199] running training loss: 0.202\n",
      "[epoch 19 step 399] running training loss: 0.196\n",
      "[epoch 19 step 599] running training loss: 0.202\n",
      "[epoch 19] val loss: 0.273, accuracy: 90.508%\n",
      "validation loss stops decreasing for 1 epoch\n",
      "--------------------------------------------\n",
      "[epoch 20 step 199] running training loss: 0.196\n",
      "[epoch 20 step 399] running training loss: 0.194\n",
      "[epoch 20 step 599] running training loss: 0.192\n",
      "[epoch 20] val loss: 0.260, accuracy: 90.733%\n",
      "validation loss stops decreasing for 2 epoch\n",
      "--------------------------------------------\n",
      "[epoch 21 step 199] running training loss: 0.180\n",
      "[epoch 21 step 399] running training loss: 0.194\n",
      "[epoch 21 step 599] running training loss: 0.186\n",
      "[epoch 21] val loss: 0.265, accuracy: 90.867%\n",
      "validation loss stops decreasing for 3 epoch\n",
      "--------------------------------------------\n",
      "[epoch 22 step 199] running training loss: 0.177\n",
      "[epoch 22 step 399] running training loss: 0.186\n",
      "[epoch 22 step 599] running training loss: 0.189\n",
      "[epoch 22] val loss: 0.270, accuracy: 90.508%\n",
      "validation loss stops decreasing for 4 epoch\n",
      "--------------------------------------------\n",
      "[epoch 23 step 199] running training loss: 0.174\n",
      "[epoch 23 step 399] running training loss: 0.182\n",
      "[epoch 23 step 599] running training loss: 0.179\n",
      "[epoch 23] val loss: 0.264, accuracy: 91.058%\n",
      "validation loss stops decreasing for 5 epoch\n",
      "early stopping criteria reached\n"
     ]
    }
   ],
   "source": [
    "best_val_loss = float('inf')\n",
    "early_stopping_step = 0\n",
    "\n",
    "for epoch in range(num_epochs):\n",
    "    running_train_loss = 0.0 # running loss for every 200 steps during training\n",
    "    train_loss = 0.0 # accumulated training loss for the entire epoch\n",
    "    num_train_samples = 0 \n",
    "    correct = 0\n",
    "    clf.train() # switch to training mode\n",
    "    for batch_idx, (images, targets) in enumerate(train_loader):\n",
    "        # transfer data to gpu if available\n",
    "        images, targets = images.to(device), targets.to(device)\n",
    "        #print(images.shape, targets.shape)\n",
    "        \n",
    "        # reshape the images to proper shape\n",
    "        batch_size = images.shape[0]\n",
    "        \n",
    "        # forward pass\n",
    "        preds = clf(images)\n",
    "        loss = criterion(preds, targets)\n",
    "        \n",
    "        # back prop\n",
    "        optimizer.zero_grad()\n",
    "        loss.backward()\n",
    "        \n",
    "        # update model params\n",
    "        optimizer.step()\n",
    "        \n",
    "        # evaluate performance for each batch\n",
    "        running_train_loss += loss.item()\n",
    "        train_loss += loss.item() * batch_size\n",
    "        num_train_samples += batch_size\n",
    "        _, pred_labels = torch.max(preds, dim=1)\n",
    "        correct += (pred_labels==targets).sum().item()\n",
    "\n",
    "        # print training stat every 200 steps\n",
    "        if ((batch_idx+1) % 200==0):\n",
    "            print(f\"[epoch {epoch} step {batch_idx}] running training loss: {running_train_loss/200:.3f}\")\n",
    "            running_train_loss = 0.0\n",
    "    \n",
    "    epoch_train_loss= train_loss/num_train_samples\n",
    "    epoch_train_acc= correct/num_train_samples\n",
    "            \n",
    "    # evaluate on the validation set every epoch\n",
    "    clf.eval() # switch to evaluation mode\n",
    "    val_loss = 0.0\n",
    "    num_val_samples = 0 \n",
    "    correct = 0\n",
    "    for images, targets in val_loader:\n",
    "        images, targets = images.to(device), targets.to(device)\n",
    "        batch_size = images.shape[0]\n",
    "        preds = clf(images)\n",
    "        loss = criterion(preds, targets)\n",
    "        val_loss += loss.item() * images.shape[0]\n",
    "        num_val_samples += batch_size\n",
    "        # calculate accuracy\n",
    "        preds = clf(images)\n",
    "        _, pred_labels = torch.max(preds, dim=1)\n",
    "        correct += (pred_labels==targets).sum().item()\n",
    "    epoch_val_loss= val_loss/num_val_samples\n",
    "    epoch_val_acc= correct/num_val_samples\n",
    "    print(f\"[epoch {epoch}] val loss: {epoch_val_loss:.3f}, accuracy: {100*epoch_val_acc:.3f}%\")\n",
    "    \n",
    "    # update train_state dict\n",
    "    train_state['train_loss'].append(epoch_train_loss)\n",
    "    train_state['train_acc'].append(epoch_train_acc)\n",
    "    train_state['val_loss'].append(epoch_val_loss)\n",
    "    train_state['val_acc'].append(epoch_val_acc)\n",
    "    \n",
    "    # early stopping\n",
    "    if (epoch_val_loss < best_val_loss):\n",
    "        best_val_loss = epoch_val_loss\n",
    "        early_stopping_step = 0\n",
    "        print(f\"current best validation loss: {best_val_loss:.3f}\")\n",
    "        torch.save(clf.state_dict(), saved_model_fn)\n",
    "        print(\"=====>save the best model\")\n",
    "    else:\n",
    "        early_stopping_step += 1\n",
    "        print(f\"validation loss stops decreasing for {early_stopping_step} epoch\")\n",
    "        if (early_stopping_step==early_stopping_criteria):\n",
    "            print(\"early stopping criteria reached\")\n",
    "            break\n",
    "    print(\"--------------------------------------------\")\n",
    "            "
   ]
  },
  {
   "cell_type": "markdown",
   "id": "hairy-honey",
   "metadata": {},
   "source": [
    "### Test the network on the test data"
   ]
  },
  {
   "cell_type": "code",
   "execution_count": 12,
   "id": "accompanied-invitation",
   "metadata": {},
   "outputs": [
    {
     "name": "stdout",
     "output_type": "stream",
     "text": [
      "testing loss: 0.283, testing accuracy: 89.820%\n"
     ]
    }
   ],
   "source": [
    "# load the saved best model\n",
    "clf = Conv_net(in_channels=in_channels, num_classes=num_classes)\n",
    "clf.load_state_dict(torch.load(saved_model_fn))\n",
    "clf.to(device) # move the model to gpu if available\n",
    "\n",
    "clf.eval()\n",
    "test_loss = 0.0\n",
    "num_test_samples = 0 \n",
    "correct = 0\n",
    "for images, targets in test_loader:\n",
    "    images, targets = images.to(device), targets.to(device)\n",
    "    batch_size = images.shape[0]\n",
    "    preds = clf(images)\n",
    "    loss = criterion(preds, targets)\n",
    "    test_loss += loss.item() * images.shape[0]\n",
    "    num_test_samples += batch_size\n",
    "    # calculate accuracy\n",
    "    preds = clf(images)\n",
    "    _, pred_labels = torch.max(preds, dim=1)\n",
    "    correct += (pred_labels==targets).sum().item()\n",
    "print(f\"testing loss: {test_loss/num_test_samples:.3f}, testing accuracy: {100*correct/num_test_samples:.3f}%\")\n"
   ]
  },
  {
   "cell_type": "markdown",
   "id": "partial-company",
   "metadata": {},
   "source": [
    "### Plot learning curve"
   ]
  },
  {
   "cell_type": "code",
   "execution_count": 13,
   "id": "controversial-dutch",
   "metadata": {},
   "outputs": [],
   "source": [
    "def plot_learning_curves(train_hist_df, title):\n",
    "    num_epoch = train_hist_df.shape[0]\n",
    "    train_hist_df.plot(figsize=(8, 5), title=title, xticks=range(1, num_epoch+1, 3))\n",
    "    plt.grid(True)\n",
    "    ymin, ymax = 0.95 * train_hist_df.values.min(), min(1.1 * train_hist_df.values.max(), 1.0)\n",
    "    plt.gca().set_ylim(ymin, ymax)\n",
    "    plt.show()"
   ]
  },
  {
   "cell_type": "code",
   "execution_count": 14,
   "id": "greater-visiting",
   "metadata": {},
   "outputs": [
    {
     "name": "stdout",
     "output_type": "stream",
     "text": [
      "    train_loss  train_acc  val_loss   val_acc\n",
      "0     0.751205   0.722271  0.495838  0.810500\n",
      "1     0.466670   0.828833  0.411874  0.855000\n",
      "2     0.400927   0.855208  0.369687  0.867917\n",
      "3     0.364077   0.867812  0.349311  0.875500\n",
      "4     0.340510   0.876687  0.324479  0.883917\n",
      "5     0.319249   0.883792  0.315718  0.883250\n",
      "6     0.302138   0.889833  0.313202  0.885750\n",
      "7     0.287565   0.893958  0.288762  0.896000\n",
      "8     0.279441   0.896000  0.281786  0.897333\n",
      "9     0.265730   0.901271  0.300717  0.888750\n",
      "10    0.258801   0.905042  0.291914  0.893333\n",
      "11    0.250192   0.906792  0.278285  0.899250\n",
      "12    0.242614   0.909875  0.271811  0.899500\n",
      "13    0.237374   0.912250  0.279437  0.897000\n",
      "14    0.229023   0.915167  0.261912  0.905750\n",
      "15    0.220940   0.918479  0.260103  0.905500\n",
      "16    0.215307   0.920771  0.260129  0.906917\n",
      "17    0.211880   0.919813  0.259743  0.907250\n",
      "18    0.203864   0.924333  0.258772  0.909583\n",
      "19    0.200415   0.925438  0.272719  0.905083\n",
      "20    0.194509   0.928604  0.260148  0.907333\n",
      "21    0.187645   0.929604  0.264892  0.908667\n",
      "22    0.183730   0.930813  0.269604  0.905083\n",
      "23    0.178911   0.933250  0.263756  0.910583\n"
     ]
    },
    {
     "data": {
      "image/png": "[encoded data removed]",
      "text/plain": [
       "<Figure size 576x360 with 1 Axes>"
      ]
     },
     "metadata": {
      "needs_background": "light"
     },
     "output_type": "display_data"
    },
    {
     "data": {
      "image/png": "[encoded data removed]",
      "text/plain": [
       "<Figure size 576x360 with 1 Axes>"
      ]
     },
     "metadata": {
      "needs_background": "light"
     },
     "output_type": "display_data"
    }
   ],
   "source": [
    "train_state_df = pd.DataFrame(train_state)\n",
    "print(train_state_df)\n",
    "plot_learning_curves(train_state_df[['train_loss', 'val_loss']], \"Loss Curve\")\n",
    "plot_learning_curves(train_state_df[['train_acc', 'val_acc']], \"Accuracy Curve\")"
   ]
  },
  {
   "cell_type": "code",
   "execution_count": null,
   "id": "finished-indication",
   "metadata": {},
   "outputs": [],
   "source": []
  }
 ],
 "metadata": {
  "kernelspec": {
   "display_name": "torch_dev_kernel",
   "language": "python",
   "name": "torch_dev"
  },
  "language_info": {
   "codemirror_mode": {
    "name": "ipython",
    "version": 3
   },
   "file_extension": ".py",
   "mimetype": "text/x-python",
   "name": "python",
   "nbconvert_exporter": "python",
   "pygments_lexer": "ipython3",
   "version": "3.8.8"
  }
 },
 "nbformat": 4,
 "nbformat_minor": 5
}
