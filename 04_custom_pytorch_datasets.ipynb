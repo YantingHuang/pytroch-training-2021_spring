{
 "cells": [
  {
   "cell_type": "code",
   "execution_count": 4,
   "id": "coated-forwarding",
   "metadata": {},
   "outputs": [],
   "source": [
    "import torch\n",
    "import torch.nn as nn\n",
    "import torch.optim as optim\n",
    "import torch.nn.functional as F\n",
    "from torch.utils.data import DataLoader\n",
    "from torch.utils.data import Dataset\n",
    "import torchvision.transforms as transforms\n",
    "\n",
    "import pandas as pd\n",
    "import matplotlib.pyplot as plt\n",
    "\n",
    "from skimage import io\n",
    "from skimage.transform import resize\n",
    "\n",
    "import random\n",
    "import sys, os\n",
    "import multiprocessing"
   ]
  },
  {
   "cell_type": "code",
   "execution_count": 5,
   "id": "sublime-consolidation",
   "metadata": {},
   "outputs": [],
   "source": [
    "# use gpu for training if available\n",
    "device = torch.device(\"cuda\" if torch.cuda.is_available() else \"cpu\")"
   ]
  },
  {
   "cell_type": "markdown",
   "id": "wrong-bolivia",
   "metadata": {},
   "source": [
    "### Model specification\n",
    "Dimension calculation in the 2D convolution layer<br>\n",
    "n_out = (n_in + 2p - k)/s + 1 <br>\n",
    "\n",
    "where,<br>\n",
    "n_in: number of input features<br>\n",
    "n_out: number of output features<br>\n",
    "k: convolution kernel size<br>\n",
    "p: convolution padding size<br>\n",
    "s: convolution stride size<br>"
   ]
  },
  {
   "cell_type": "code",
   "execution_count": 6,
   "id": "christian-prefix",
   "metadata": {},
   "outputs": [],
   "source": [
    "class Conv_net(nn.Module):\n",
    "    def __init__(self, in_channels, num_classes):\n",
    "        super(Conv_net, self).__init__()\n",
    "        \n",
    "        self.conv1 = nn.Conv2d(in_channels=in_channels, out_channels=6, kernel_size=11)\n",
    "        self.conv2 = nn.Conv2d(6, 12, 12)\n",
    "        self.conv3 = nn.Conv2d(12, 24, 11)\n",
    "        self.conv4 = nn.Conv2d(24, 48, 12)\n",
    "        self.pool = nn.MaxPool2d(2, 2)\n",
    "        self.fc1 = nn.Linear(48 * 4 * 4, 100)\n",
    "        self.fc2 = nn.Linear(100, num_classes)\n",
    "    \n",
    "    def forward(self, x):\n",
    "        x = F.relu(self.conv1(x)) #（3,224,224）->(6,214,214)\n",
    "        x = self.pool(x) #(6,214,214)->(6,107,107)\n",
    "        x = F.relu(self.conv2(x)) #（6,107,107）->(12,96,96)\n",
    "        x = self.pool(x) #(12,96,96)->(12,48,48)\n",
    "        x = F.relu(self.conv3(x)) #（12,48,48）->(24,38,38)\n",
    "        x = self.pool(x) #(24,38,38)->(24,19,19)\n",
    "        x = F.relu(self.conv4(x)) #（24,19,19）->(48,8,8)\n",
    "        x = self.pool(x) #(48,8,8)->(48,4,4)\n",
    "        x = x.view(-1, 48 * 4 * 4)\n",
    "        x = F.relu(self.fc1(x))\n",
    "        x = self.fc2(x)\n",
    "        return x"
   ]
  },
  {
   "cell_type": "markdown",
   "id": "architectural-sphere",
   "metadata": {},
   "source": [
    "### Dimensionality checking with random inputs\n",
    "Recommend to do so to ensure the data flow in your model is as you expected"
   ]
  },
  {
   "cell_type": "code",
   "execution_count": 7,
   "id": "charged-portugal",
   "metadata": {},
   "outputs": [
    {
     "name": "stdout",
     "output_type": "stream",
     "text": [
      "torch.Size([64, 2])\n"
     ]
    }
   ],
   "source": [
    "x = torch.randn(64, 3, 224, 224)\n",
    "model = Conv_net(in_channels=3, num_classes=2)\n",
    "out = model(x)\n",
    "print(out.shape)"
   ]
  },
  {
   "cell_type": "markdown",
   "id": "informative-fortune",
   "metadata": {},
   "source": [
    "### Global Variables Specification\n",
    "Configure this part to your preferred setting before you start training"
   ]
  },
  {
   "cell_type": "code",
   "execution_count": 8,
   "id": "western-sleep",
   "metadata": {},
   "outputs": [],
   "source": [
    "num_classes = 2\n",
    "learning_rate = 0.001\n",
    "batch_size = 128\n",
    "num_epochs = 50\n",
    "num_workers = 16 # multiprocessing.cpu_count() \n",
    "in_channels = 3 # fashion-mnist only has 1 channel\n",
    "early_stopping_criteria= 3\n",
    "\n",
    "train_proportion = 0.8\n",
    "val_proportion = 0.1\n",
    "test_proportion = 0.1\n",
    "\n",
    "data_dir = \"/mnt/addtional_data_ssd/pytorch_tutorials/data\" # change this path to your preferred directory to store fashion minst data\n",
    "model_dir = \"/mnt/addtional_data_ssd/pytorch_tutorials/model\" \n",
    "image_root_dir = os.path.join(data_dir, \"dogs-vs-cats\", \"images\")\n",
    "\n",
    "csv_fn = os.path.join(data_dir, \"dogs-vs-cats\", \"cats_dogs_labels.csv\")\n",
    "saved_model_fn = os.path.join(model_dir, \"best_cnn_catsdogs_model.pt\")"
   ]
  },
  {
   "cell_type": "markdown",
   "id": "treated-overhead",
   "metadata": {},
   "source": [
    "### Custom Dataset \n",
    "Data adapted from this famous [dogs vs. cats](num_classes) kaggle competition"
   ]
  },
  {
   "cell_type": "code",
   "execution_count": 9,
   "id": "postal-experience",
   "metadata": {},
   "outputs": [],
   "source": [
    "class CatsAndDogDataset(Dataset):\n",
    "    def __init__(self, csv_fn, image_root_dir, transform=None):\n",
    "        self.annotations = pd.read_csv(csv_fn)\n",
    "        self.image_root_dir = image_root_dir\n",
    "        self.transform = transform\n",
    "    \n",
    "    def __len__(self):\n",
    "        return len(self.annotations)\n",
    "    \n",
    "    def __getitem__(self, index):\n",
    "        img_path = os.path.join(self.image_root_dir, self.annotations.iloc[index, 0])\n",
    "        image = io.imread(img_path)\n",
    "        image = resize(image, (224, 224)) \n",
    "        y_label = torch.tensor(int(self.annotations.iloc[index, 1]))\n",
    "        image = torch.from_numpy(image).permute(2, 0, 1).float()\n",
    "        if self.transform:\n",
    "            image = self.transform(image)\n",
    "        return (image, y_label)"
   ]
  },
  {
   "cell_type": "code",
   "execution_count": 10,
   "id": "typical-milwaukee",
   "metadata": {},
   "outputs": [
    {
     "name": "stdout",
     "output_type": "stream",
     "text": [
      "torch.Size([3, 224, 224])\n",
      "tensor(1)\n"
     ]
    }
   ],
   "source": [
    "dataset = CatsAndDogDataset(csv_fn=csv_fn, image_root_dir=image_root_dir)\n",
    "image, label = dataset[0]\n",
    "print(image.shape)\n",
    "print(label)"
   ]
  },
  {
   "cell_type": "code",
   "execution_count": 8,
   "id": "aboriginal-inside",
   "metadata": {},
   "outputs": [
    {
     "name": "stdout",
     "output_type": "stream",
     "text": [
      "number samples in train: 20000\n",
      "number samples in val: 2500\n",
      "number samples in test: 2500\n"
     ]
    }
   ],
   "source": [
    "train_size = int(len(dataset) * train_proportion)\n",
    "val_size = int(len(dataset) * val_proportion)\n",
    "test_size = len(dataset) - train_size - val_size\n",
    "\n",
    "print(f\"number samples in train: {train_size}\")\n",
    "print(f\"number samples in val: {val_size}\")\n",
    "print(f\"number samples in test: {test_size}\")\n",
    "\n",
    "train_dataset, val_dataset, test_dataset = torch.utils.data.random_split(dataset, [train_size, val_size, test_size])"
   ]
  },
  {
   "cell_type": "code",
   "execution_count": 9,
   "id": "multiple-pittsburgh",
   "metadata": {},
   "outputs": [],
   "source": [
    "train_loader = DataLoader(dataset=train_dataset, batch_size=batch_size, shuffle=True, num_workers=num_workers)\n",
    "val_loader = DataLoader(dataset=val_dataset, batch_size=batch_size, shuffle=False, num_workers=num_workers)\n",
    "test_loader = DataLoader(dataset=test_dataset, batch_size=batch_size, shuffle=False, num_workers=num_workers)"
   ]
  },
  {
   "cell_type": "code",
   "execution_count": 10,
   "id": "express-ecuador",
   "metadata": {},
   "outputs": [
    {
     "name": "stdout",
     "output_type": "stream",
     "text": [
      "input image has shape:\n",
      "torch.Size([3, 224, 224])\n"
     ]
    }
   ],
   "source": [
    "# check the dimensions of the data\n",
    "image, target = train_dataset[2]\n",
    "print(\"input image has shape:\")\n",
    "print(image.shape)"
   ]
  },
  {
   "cell_type": "markdown",
   "id": "separated-cattle",
   "metadata": {},
   "source": [
    "### Model Initialization, Loss, Optimizer"
   ]
  },
  {
   "cell_type": "code",
   "execution_count": 11,
   "id": "sharp-smooth",
   "metadata": {},
   "outputs": [
    {
     "name": "stdout",
     "output_type": "stream",
     "text": [
      "Conv_net(\n",
      "  (conv1): Conv2d(3, 6, kernel_size=(11, 11), stride=(1, 1))\n",
      "  (conv2): Conv2d(6, 12, kernel_size=(12, 12), stride=(1, 1))\n",
      "  (conv3): Conv2d(12, 24, kernel_size=(11, 11), stride=(1, 1))\n",
      "  (conv4): Conv2d(24, 48, kernel_size=(12, 12), stride=(1, 1))\n",
      "  (pool): MaxPool2d(kernel_size=2, stride=2, padding=0, dilation=1, ceil_mode=False)\n",
      "  (fc1): Linear(in_features=768, out_features=100, bias=True)\n",
      "  (fc2): Linear(in_features=100, out_features=2, bias=True)\n",
      ")\n"
     ]
    }
   ],
   "source": [
    "# instantiate the model\n",
    "clf = Conv_net(in_channels=in_channels, num_classes=num_classes)\n",
    "clf.to(device) # move the model to gpu if available\n",
    "print(clf)\n",
    "\n",
    "# instantiate the loss and the optimizer\n",
    "criterion = nn.CrossEntropyLoss()\n",
    "optimizer = optim.Adam(clf.parameters(), lr=learning_rate)"
   ]
  },
  {
   "cell_type": "markdown",
   "id": "correct-coral",
   "metadata": {},
   "source": [
    "### Initialize a dictionary to record training progress"
   ]
  },
  {
   "cell_type": "code",
   "execution_count": 12,
   "id": "passive-showcase",
   "metadata": {},
   "outputs": [],
   "source": [
    "train_state = {\n",
    "    \"train_loss\": [],\n",
    "    \"train_acc\": [],\n",
    "    \"val_loss\": [],\n",
    "    \"val_acc\": []\n",
    "}"
   ]
  },
  {
   "cell_type": "markdown",
   "id": "complicated-voluntary",
   "metadata": {},
   "source": [
    "### Train the model\n",
    "[Model saving and loading](https://pytorch.org/tutorials/beginner/saving_loading_models.html)"
   ]
  },
  {
   "cell_type": "code",
   "execution_count": 13,
   "id": "emerging-spiritual",
   "metadata": {},
   "outputs": [
    {
     "name": "stdout",
     "output_type": "stream",
     "text": [
      "[epoch 0 step 19] running training loss: 0.693\n",
      "[epoch 0 step 39] running training loss: 0.692\n",
      "[epoch 0 step 59] running training loss: 0.691\n",
      "[epoch 0 step 79] running training loss: 0.689\n",
      "[epoch 0 step 99] running training loss: 0.692\n",
      "[epoch 0 step 119] running training loss: 0.693\n",
      "[epoch 0 step 139] running training loss: 0.693\n",
      "[epoch 0] val loss: 0.692, accuracy: 50.440%\n",
      "current best validation loss: 0.692\n",
      "=====>save the best model\n",
      "--------------------------------------------\n",
      "[epoch 1 step 19] running training loss: 0.693\n",
      "[epoch 1 step 39] running training loss: 0.692\n",
      "[epoch 1 step 59] running training loss: 0.689\n",
      "[epoch 1 step 79] running training loss: 0.686\n",
      "[epoch 1 step 99] running training loss: 0.688\n",
      "[epoch 1 step 119] running training loss: 0.685\n",
      "[epoch 1 step 139] running training loss: 0.693\n",
      "[epoch 1] val loss: 0.693, accuracy: 50.200%\n",
      "validation loss stops decreasing for 1 epoch\n",
      "--------------------------------------------\n",
      "[epoch 2 step 19] running training loss: 0.695\n",
      "[epoch 2 step 39] running training loss: 0.690\n",
      "[epoch 2 step 59] running training loss: 0.695\n",
      "[epoch 2 step 79] running training loss: 0.693\n",
      "[epoch 2 step 99] running training loss: 0.694\n",
      "[epoch 2 step 119] running training loss: 0.693\n",
      "[epoch 2 step 139] running training loss: 0.693\n",
      "[epoch 2] val loss: 0.693, accuracy: 50.040%\n",
      "validation loss stops decreasing for 2 epoch\n",
      "--------------------------------------------\n",
      "[epoch 3 step 19] running training loss: 0.693\n",
      "[epoch 3 step 39] running training loss: 0.693\n",
      "[epoch 3 step 59] running training loss: 0.693\n",
      "[epoch 3 step 79] running training loss: 0.692\n",
      "[epoch 3 step 99] running training loss: 0.691\n",
      "[epoch 3 step 119] running training loss: 0.692\n",
      "[epoch 3 step 139] running training loss: 0.690\n",
      "[epoch 3] val loss: 0.691, accuracy: 51.240%\n",
      "current best validation loss: 0.691\n",
      "=====>save the best model\n",
      "--------------------------------------------\n",
      "[epoch 4 step 19] running training loss: 0.687\n",
      "[epoch 4 step 39] running training loss: 0.688\n",
      "[epoch 4 step 59] running training loss: 0.685\n",
      "[epoch 4 step 79] running training loss: 0.691\n",
      "[epoch 4 step 99] running training loss: 0.688\n",
      "[epoch 4 step 119] running training loss: 0.682\n",
      "[epoch 4 step 139] running training loss: 0.685\n",
      "[epoch 4] val loss: 0.686, accuracy: 54.160%\n",
      "current best validation loss: 0.686\n",
      "=====>save the best model\n",
      "--------------------------------------------\n",
      "[epoch 5 step 19] running training loss: 0.682\n",
      "[epoch 5 step 39] running training loss: 0.684\n",
      "[epoch 5 step 59] running training loss: 0.675\n",
      "[epoch 5 step 79] running training loss: 0.688\n",
      "[epoch 5 step 99] running training loss: 0.692\n",
      "[epoch 5 step 119] running training loss: 0.685\n",
      "[epoch 5 step 139] running training loss: 0.677\n",
      "[epoch 5] val loss: 0.680, accuracy: 55.840%\n",
      "current best validation loss: 0.680\n",
      "=====>save the best model\n",
      "--------------------------------------------\n",
      "[epoch 6 step 19] running training loss: 0.679\n",
      "[epoch 6 step 39] running training loss: 0.683\n",
      "[epoch 6 step 59] running training loss: 0.680\n",
      "[epoch 6 step 79] running training loss: 0.675\n",
      "[epoch 6 step 99] running training loss: 0.676\n",
      "[epoch 6 step 119] running training loss: 0.686\n",
      "[epoch 6 step 139] running training loss: 0.683\n",
      "[epoch 6] val loss: 0.684, accuracy: 54.400%\n",
      "validation loss stops decreasing for 1 epoch\n",
      "--------------------------------------------\n",
      "[epoch 7 step 19] running training loss: 0.679\n",
      "[epoch 7 step 39] running training loss: 0.685\n",
      "[epoch 7 step 59] running training loss: 0.675\n",
      "[epoch 7 step 79] running training loss: 0.682\n",
      "[epoch 7 step 99] running training loss: 0.677\n",
      "[epoch 7 step 119] running training loss: 0.676\n",
      "[epoch 7 step 139] running training loss: 0.668\n",
      "[epoch 7] val loss: 0.680, accuracy: 56.160%\n",
      "validation loss stops decreasing for 2 epoch\n",
      "--------------------------------------------\n",
      "[epoch 8 step 19] running training loss: 0.677\n",
      "[epoch 8 step 39] running training loss: 0.666\n",
      "[epoch 8 step 59] running training loss: 0.658\n",
      "[epoch 8 step 79] running training loss: 0.660\n",
      "[epoch 8 step 99] running training loss: 0.657\n",
      "[epoch 8 step 119] running training loss: 0.663\n",
      "[epoch 8 step 139] running training loss: 0.647\n",
      "[epoch 8] val loss: 0.649, accuracy: 62.040%\n",
      "current best validation loss: 0.649\n",
      "=====>save the best model\n",
      "--------------------------------------------\n",
      "[epoch 9 step 19] running training loss: 0.648\n",
      "[epoch 9 step 39] running training loss: 0.626\n",
      "[epoch 9 step 59] running training loss: 0.629\n",
      "[epoch 9 step 79] running training loss: 0.632\n",
      "[epoch 9 step 99] running training loss: 0.625\n",
      "[epoch 9 step 119] running training loss: 0.624\n",
      "[epoch 9 step 139] running training loss: 0.611\n",
      "[epoch 9] val loss: 0.590, accuracy: 70.240%\n",
      "current best validation loss: 0.590\n",
      "=====>save the best model\n",
      "--------------------------------------------\n",
      "[epoch 10 step 19] running training loss: 0.597\n",
      "[epoch 10 step 39] running training loss: 0.589\n",
      "[epoch 10 step 59] running training loss: 0.619\n",
      "[epoch 10 step 79] running training loss: 0.592\n",
      "[epoch 10 step 99] running training loss: 0.585\n",
      "[epoch 10 step 119] running training loss: 0.578\n",
      "[epoch 10 step 139] running training loss: 0.559\n",
      "[epoch 10] val loss: 0.549, accuracy: 72.640%\n",
      "current best validation loss: 0.549\n",
      "=====>save the best model\n",
      "--------------------------------------------\n",
      "[epoch 11 step 19] running training loss: 0.547\n",
      "[epoch 11 step 39] running training loss: 0.540\n",
      "[epoch 11 step 59] running training loss: 0.541\n",
      "[epoch 11 step 79] running training loss: 0.528\n",
      "[epoch 11 step 99] running training loss: 0.512\n",
      "[epoch 11 step 119] running training loss: 0.535\n",
      "[epoch 11 step 139] running training loss: 0.561\n",
      "[epoch 11] val loss: 0.552, accuracy: 72.400%\n",
      "validation loss stops decreasing for 1 epoch\n",
      "--------------------------------------------\n",
      "[epoch 12 step 19] running training loss: 0.474\n",
      "[epoch 12 step 39] running training loss: 0.483\n",
      "[epoch 12 step 59] running training loss: 0.494\n",
      "[epoch 12 step 79] running training loss: 0.502\n",
      "[epoch 12 step 99] running training loss: 0.477\n",
      "[epoch 12 step 119] running training loss: 0.507\n",
      "[epoch 12 step 139] running training loss: 0.473\n",
      "[epoch 12] val loss: 0.510, accuracy: 75.800%\n",
      "current best validation loss: 0.510\n",
      "=====>save the best model\n",
      "--------------------------------------------\n",
      "[epoch 13 step 19] running training loss: 0.435\n",
      "[epoch 13 step 39] running training loss: 0.438\n",
      "[epoch 13 step 59] running training loss: 0.450\n",
      "[epoch 13 step 79] running training loss: 0.432\n",
      "[epoch 13 step 99] running training loss: 0.433\n",
      "[epoch 13 step 119] running training loss: 0.447\n",
      "[epoch 13 step 139] running training loss: 0.438\n",
      "[epoch 13] val loss: 0.524, accuracy: 74.880%\n",
      "validation loss stops decreasing for 1 epoch\n",
      "--------------------------------------------\n",
      "[epoch 14 step 19] running training loss: 0.396\n",
      "[epoch 14 step 39] running training loss: 0.365\n",
      "[epoch 14 step 59] running training loss: 0.373\n",
      "[epoch 14 step 79] running training loss: 0.381\n",
      "[epoch 14 step 99] running training loss: 0.418\n",
      "[epoch 14 step 119] running training loss: 0.372\n",
      "[epoch 14 step 139] running training loss: 0.389\n",
      "[epoch 14] val loss: 0.565, accuracy: 75.200%\n",
      "validation loss stops decreasing for 2 epoch\n",
      "--------------------------------------------\n",
      "[epoch 15 step 19] running training loss: 0.319\n",
      "[epoch 15 step 39] running training loss: 0.326\n",
      "[epoch 15 step 59] running training loss: 0.337\n",
      "[epoch 15 step 79] running training loss: 0.315\n",
      "[epoch 15 step 99] running training loss: 0.330\n",
      "[epoch 15 step 119] running training loss: 0.322\n",
      "[epoch 15 step 139] running training loss: 0.317\n",
      "[epoch 15] val loss: 0.581, accuracy: 74.800%\n",
      "validation loss stops decreasing for 3 epoch\n",
      "early stopping criteria reached\n"
     ]
    }
   ],
   "source": [
    "best_val_loss = float('inf')\n",
    "early_stopping_step = 0\n",
    "\n",
    "for epoch in range(num_epochs):\n",
    "    running_train_loss = 0.0 # running loss for every 200 steps during training\n",
    "    train_loss = 0.0 # accumulated training loss for the entire epoch\n",
    "    num_train_samples = 0 \n",
    "    correct = 0\n",
    "    clf.train() # switch to training mode\n",
    "    for batch_idx, (images, targets) in enumerate(train_loader):\n",
    "        # transfer data to gpu if available\n",
    "        images, targets = images.to(device), targets.to(device)\n",
    "        #print(images.shape, targets.shape)\n",
    "        \n",
    "        # reshape the images to proper shape\n",
    "        batch_size = images.shape[0]\n",
    "        \n",
    "        # forward pass\n",
    "        preds = clf(images)\n",
    "        loss = criterion(preds, targets)\n",
    "        \n",
    "        # back prop\n",
    "        optimizer.zero_grad()\n",
    "        loss.backward()\n",
    "        \n",
    "        # update model params\n",
    "        optimizer.step()\n",
    "        \n",
    "        # evaluate performance for each batch\n",
    "        running_train_loss += loss.item()\n",
    "        train_loss += loss.item() * batch_size\n",
    "        num_train_samples += batch_size\n",
    "        _, pred_labels = torch.max(preds, dim=1)\n",
    "        correct += (pred_labels==targets).sum().item()\n",
    "\n",
    "        # print training stat every 20 steps\n",
    "        if ((batch_idx+1) % 20==0):\n",
    "            print(f\"[epoch {epoch} step {batch_idx}] running training loss: {running_train_loss/20:.3f}\")\n",
    "            running_train_loss = 0.0\n",
    "    \n",
    "    epoch_train_loss= train_loss/num_train_samples\n",
    "    epoch_train_acc= correct/num_train_samples\n",
    "            \n",
    "    # evaluate on the validation set every epoch\n",
    "    clf.eval() # switch to evaluation mode\n",
    "    val_loss = 0.0\n",
    "    num_val_samples = 0 \n",
    "    correct = 0\n",
    "    for images, targets in val_loader:\n",
    "        images, targets = images.to(device), targets.to(device)\n",
    "        batch_size = images.shape[0]\n",
    "        preds = clf(images)\n",
    "        loss = criterion(preds, targets)\n",
    "        val_loss += loss.item() * images.shape[0]\n",
    "        num_val_samples += batch_size\n",
    "        # calculate accuracy\n",
    "        preds = clf(images)\n",
    "        _, pred_labels = torch.max(preds, dim=1)\n",
    "        correct += (pred_labels==targets).sum().item()\n",
    "    epoch_val_loss= val_loss/num_val_samples\n",
    "    epoch_val_acc= correct/num_val_samples\n",
    "    print(f\"[epoch {epoch}] val loss: {epoch_val_loss:.3f}, accuracy: {100*epoch_val_acc:.3f}%\")\n",
    "    \n",
    "    # update train_state dict\n",
    "    train_state['train_loss'].append(epoch_train_loss)\n",
    "    train_state['train_acc'].append(epoch_train_acc)\n",
    "    train_state['val_loss'].append(epoch_val_loss)\n",
    "    train_state['val_acc'].append(epoch_val_acc)\n",
    "    \n",
    "    # early stopping\n",
    "    if (epoch_val_loss < best_val_loss):\n",
    "        best_val_loss = epoch_val_loss\n",
    "        early_stopping_step = 0\n",
    "        print(f\"current best validation loss: {best_val_loss:.3f}\")\n",
    "        torch.save(clf.state_dict(), saved_model_fn)\n",
    "        print(\"=====>save the best model\")\n",
    "    else:\n",
    "        early_stopping_step += 1\n",
    "        print(f\"validation loss stops decreasing for {early_stopping_step} epoch\")\n",
    "        if (early_stopping_step==early_stopping_criteria):\n",
    "            print(\"early stopping criteria reached\")\n",
    "            break\n",
    "    print(\"--------------------------------------------\")\n",
    "            "
   ]
  },
  {
   "cell_type": "markdown",
   "id": "hairy-honey",
   "metadata": {},
   "source": [
    "### Test the network on the test data"
   ]
  },
  {
   "cell_type": "code",
   "execution_count": 14,
   "id": "accompanied-invitation",
   "metadata": {},
   "outputs": [
    {
     "name": "stdout",
     "output_type": "stream",
     "text": [
      "testing loss: 0.515, testing accuracy: 75.960%\n"
     ]
    }
   ],
   "source": [
    "# load the saved best model\n",
    "clf = Conv_net(in_channels=in_channels, num_classes=num_classes)\n",
    "clf.load_state_dict(torch.load(saved_model_fn))\n",
    "clf.to(device) # move the model to gpu if available\n",
    "\n",
    "clf.eval()\n",
    "test_loss = 0.0\n",
    "num_test_samples = 0 \n",
    "correct = 0\n",
    "for images, targets in test_loader:\n",
    "    images, targets = images.to(device), targets.to(device)\n",
    "    batch_size = images.shape[0]\n",
    "    preds = clf(images)\n",
    "    loss = criterion(preds, targets)\n",
    "    test_loss += loss.item() * images.shape[0]\n",
    "    num_test_samples += batch_size\n",
    "    # calculate accuracy\n",
    "    preds = clf(images)\n",
    "    _, pred_labels = torch.max(preds, dim=1)\n",
    "    correct += (pred_labels==targets).sum().item()\n",
    "print(f\"testing loss: {test_loss/num_test_samples:.3f}, testing accuracy: {100*correct/num_test_samples:.3f}%\")\n"
   ]
  },
  {
   "cell_type": "markdown",
   "id": "partial-company",
   "metadata": {},
   "source": [
    "### Plot learning curve"
   ]
  },
  {
   "cell_type": "code",
   "execution_count": 15,
   "id": "controversial-dutch",
   "metadata": {},
   "outputs": [],
   "source": [
    "def plot_learning_curves(train_hist_df, title):\n",
    "    num_epoch = train_hist_df.shape[0]\n",
    "    train_hist_df.plot(figsize=(8, 5), title=title, xticks=range(1, num_epoch+1, 3))\n",
    "    plt.grid(True)\n",
    "    ymin, ymax = 0.95 * train_hist_df.values.min(), min(1.1 * train_hist_df.values.max(), 1.0)\n",
    "    plt.gca().set_ylim(ymin, ymax)\n",
    "    plt.show()"
   ]
  },
  {
   "cell_type": "code",
   "execution_count": 16,
   "id": "greater-visiting",
   "metadata": {},
   "outputs": [
    {
     "name": "stdout",
     "output_type": "stream",
     "text": [
      "    train_loss  train_acc  val_loss  val_acc\n",
      "0     0.691863    0.51030  0.692407   0.5044\n",
      "1     0.689968    0.51935  0.693200   0.5020\n",
      "2     0.693211    0.50710  0.693087   0.5004\n",
      "3     0.692182    0.51080  0.691116   0.5124\n",
      "4     0.686879    0.53635  0.685997   0.5416\n",
      "5     0.682466    0.55110  0.679932   0.5584\n",
      "6     0.680564    0.56050  0.683824   0.5440\n",
      "7     0.676427    0.57275  0.680026   0.5616\n",
      "8     0.660746    0.60675  0.649466   0.6204\n",
      "9     0.626494    0.65165  0.590380   0.7024\n",
      "10    0.584871    0.69065  0.549318   0.7264\n",
      "11    0.534867    0.73050  0.551837   0.7240\n",
      "12    0.488457    0.76395  0.509988   0.7580\n",
      "13    0.440886    0.79060  0.524265   0.7488\n",
      "14    0.383947    0.82150  0.564528   0.7520\n",
      "15    0.323435    0.85645  0.581472   0.7480\n"
     ]
    },
    {
     "data": {
      "image/png": "[encoded data removed]",
      "text/plain": [
       "<Figure size 576x360 with 1 Axes>"
      ]
     },
     "metadata": {
      "needs_background": "light"
     },
     "output_type": "display_data"
    },
    {
     "data": {
      "image/png": "[encoded data removed]",
      "text/plain": [
       "<Figure size 576x360 with 1 Axes>"
      ]
     },
     "metadata": {
      "needs_background": "light"
     },
     "output_type": "display_data"
    }
   ],
   "source": [
    "train_state_df = pd.DataFrame(train_state)\n",
    "print(train_state_df)\n",
    "plot_learning_curves(train_state_df[['train_loss', 'val_loss']], \"Loss Curve\")\n",
    "plot_learning_curves(train_state_df[['train_acc', 'val_acc']], \"Accuracy Curve\")"
   ]
  },
  {
   "cell_type": "code",
   "execution_count": null,
   "id": "finished-indication",
   "metadata": {},
   "outputs": [],
   "source": []
  }
 ],
 "metadata": {
  "kernelspec": {
   "display_name": "torch_dev_kernel",
   "language": "python",
   "name": "torch_dev"
  },
  "language_info": {
   "codemirror_mode": {
    "name": "ipython",
    "version": 3
   },
   "file_extension": ".py",
   "mimetype": "text/x-python",
   "name": "python",
   "nbconvert_exporter": "python",
   "pygments_lexer": "ipython3",
   "version": "3.8.8"
  }
 },
 "nbformat": 4,
 "nbformat_minor": 5
}
