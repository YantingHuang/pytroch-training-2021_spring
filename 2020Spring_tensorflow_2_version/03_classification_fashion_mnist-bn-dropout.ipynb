{
 "cells": [
  {
   "cell_type": "code",
   "execution_count": 1,
   "metadata": {},
   "outputs": [
    {
     "name": "stdout",
     "output_type": "stream",
     "text": [
      "2.0.0\n",
      "sys.version_info(major=3, minor=6, micro=8, releaselevel='final', serial=0)\n"
     ]
    }
   ],
   "source": [
    "import matplotlib as mpl\n",
    "import matplotlib.pyplot as plt \n",
    "%matplotlib inline\n",
    "import tensorflow as tf\n",
    "from tensorflow import keras \n",
    "import numpy as np\n",
    "import sklearn\n",
    "import pandas as pd\n",
    "import sys, os, shutil\n",
    "print(tf.__version__)\n",
    "print(sys.version_info)"
   ]
  },
  {
   "cell_type": "markdown",
   "metadata": {},
   "source": [
    "## Load Data"
   ]
  },
  {
   "cell_type": "code",
   "execution_count": 2,
   "metadata": {},
   "outputs": [],
   "source": [
    "fashion_mnist = keras.datasets.fashion_mnist #https://www.tensorflow.org/datasets/catalog/fashion_mnist\n",
    "(x_train_all, y_train_all), (x_test, y_test) = fashion_mnist.load_data()\n",
    "x_valid, x_train = x_train_all[:5000], x_train_all[5000:]\n",
    "y_valid, y_train = y_train_all[:5000], y_train_all[5000:]"
   ]
  },
  {
   "cell_type": "markdown",
   "metadata": {},
   "source": [
    "## Dimensionality checking"
   ]
  },
  {
   "cell_type": "code",
   "execution_count": 3,
   "metadata": {},
   "outputs": [
    {
     "name": "stdout",
     "output_type": "stream",
     "text": [
      "training set size:\n",
      "(55000, 28, 28) (55000,)\n",
      "validation set size:\n",
      "(5000, 28, 28) (5000,)\n",
      "testing set size:\n",
      "(10000, 28, 28) (10000,)\n"
     ]
    }
   ],
   "source": [
    "print(\"training set size:\")\n",
    "print(x_train.shape, y_train.shape)\n",
    "print(\"validation set size:\")\n",
    "print(x_valid.shape, y_valid.shape)\n",
    "print(\"testing set size:\")\n",
    "print(x_test.shape, y_test.shape)"
   ]
  },
  {
   "cell_type": "markdown",
   "metadata": {},
   "source": [
    "## Standardization"
   ]
  },
  {
   "cell_type": "code",
   "execution_count": 4,
   "metadata": {},
   "outputs": [],
   "source": [
    "# https://scikit-learn.org/stable/modules/preprocessing.html\n",
    "# x = (x-u)/std to make x with mean 0 and std 1\n",
    "from sklearn.preprocessing import StandardScaler\n",
    "scaler = StandardScaler()\n",
    "x_train_scaled = scaler.fit_transform(x_train.astype(np.float32).reshape(-1, 1)).reshape(-1, 28, 28)\n",
    "# use the mean and std of training set to do standardization for validation/testing set\n",
    "x_valid_scaled = scaler.transform(x_valid.astype(np.float32).reshape(-1, 1)).reshape(-1, 28, 28)\n",
    "x_test_scaled = scaler.transform(x_test.astype(np.float32).reshape(-1, 1)).reshape(-1, 28, 28)"
   ]
  },
  {
   "cell_type": "markdown",
   "metadata": {},
   "source": [
    "## Build the model with keras.Sequential API (w/ batch normalization and dropout)"
   ]
  },
  {
   "cell_type": "code",
   "execution_count": 5,
   "metadata": {},
   "outputs": [],
   "source": [
    "# relu: y=max(0, x)\n",
    "# softmax: x = [2, 3, 8]\n",
    "#          sum = e^2 + e^3 + e^8\n",
    "#          y = [e^2/sum, e^3/sum, e^8/sum] sum up to 1 (as probability)\n",
    "\n",
    "#https://www.tensorflow.org/versions/r2.0/api_docs/python/tf/keras/layers/AlphaDropout\n",
    "#https://www.tensorflow.org/api_docs/python/tf/keras/layers/BatchNormalization\n",
    "\n",
    "model = keras.models.Sequential()\n",
    "model.add(keras.layers.Flatten(input_shape=[28, 28])) # 28x28 image -> 784\n",
    "model.add(keras.layers.Dense(300, activation=\"relu\")) #fully connected layer 1\n",
    "model.add(keras.layers.BatchNormalization()) #way 1: BN after activation\n",
    "\"\"\"\n",
    "model.add(keras.layers.Dense(300)) #fully connected layer 1 (without activation)\n",
    "model.add(keras.layers.BatchNormalization()) #way 2: BN before activation\n",
    "model.add(keras.layers.Activation('relu')) # activation after batch norm layer\n",
    "\"\"\"\n",
    "model.add(keras.layers.AlphaDropout(rate=0.3)) #dropout layer\n",
    "model.add(keras.layers.Dense(100, activation=\"relu\")) #fully connected layer 2\n",
    "model.add(keras.layers.Dense(10, activation=\"softmax\")) # output layer"
   ]
  },
  {
   "cell_type": "markdown",
   "metadata": {},
   "source": [
    "## Compile the model\n"
   ]
  },
  {
   "cell_type": "code",
   "execution_count": null,
   "metadata": {},
   "outputs": [],
   "source": [
    "#reference links\n",
    "# cross entropy\n",
    "#https://www.tensorflow.org/api_docs/python/tf/keras/losses/sparse_categorical_crossentropy?hl=en\n",
    "# sgd\n",
    "#https://www.tensorflow.org/api_docs/python/tf/keras/optimizers/SGD\n",
    "model.compile(loss=\"sparse_categorical_crossentropy\",\n",
    "\t\t\t\toptimizer=keras.optimizers.SGD(0.001),\n",
    "\t\t\t\tmetrics=[\"accuracy\"])\n",
    "model.summary()"
   ]
  },
  {
   "cell_type": "markdown",
   "metadata": {},
   "source": [
    "## callback functions"
   ]
  },
  {
   "cell_type": "code",
   "execution_count": null,
   "metadata": {},
   "outputs": [],
   "source": [
    "# https://www.tensorflow.org/versions/r2.0/api_docs/python/tf/keras/callbacks\n",
    "# keras.callbacks.Tensorboard: https://www.tensorflow.org/versions/r2.0/api_docs/python/tf/keras/callbacks/TensorBoard\n",
    "# keras.callbacks.ModelCheckpoint: https://www.tensorflow.org/versions/r2.0/api_docs/python/tf/keras/callbacks/ModelCheckpoint\n",
    "# keras.callbacks.EarlyStopping: https://www.tensorflow.org/versions/r2.0/api_docs/python/tf/keras/callbacks/EarlyStopping\n",
    "# check tensorboard record: tensorboard --logdir=Log_Dir_You_Saved_The_Logs\n",
    "\n",
    "logdir = \"/Users/yantinghuang/Study/BIOS534_Yu_spring2019/log_dir_classification\" # change to your preferred directory path\n",
    "if not os.path.exists(logdir):\n",
    "\tos.mkdir(logdir)\n",
    "output_model_fn = os.path.join(logdir, \"fashion_mnist_model.h5\")\n",
    "callbacks = [\n",
    "\t\tkeras.callbacks.TensorBoard(logdir),\n",
    "\t\tkeras.callbacks.ModelCheckpoint(output_model_fn,save_best_only=True),\n",
    "\t\tkeras.callbacks.EarlyStopping(patience=5, min_delta=1e-3)]"
   ]
  },
  {
   "cell_type": "markdown",
   "metadata": {},
   "source": [
    "## Model Training"
   ]
  },
  {
   "cell_type": "code",
   "execution_count": null,
   "metadata": {},
   "outputs": [],
   "source": [
    "history = model.fit(x_train_scaled, y_train, epochs=10,\n",
    "\tvalidation_data=(x_valid_scaled, y_valid),\n",
    "\tcallbacks=callbacks)\n",
    "print(history.history)\n"
   ]
  },
  {
   "cell_type": "markdown",
   "metadata": {},
   "source": [
    "## Plot training history"
   ]
  },
  {
   "cell_type": "code",
   "execution_count": null,
   "metadata": {},
   "outputs": [],
   "source": [
    "def plot_learning_curves(history):\n",
    "\tpd.DataFrame(history.history).plot(figsize=(8, 5))\n",
    "\tplt.grid(True)\n",
    "\tplt.gca().set_ylim(0, 1)\n",
    "\tplt.show()\n",
    "plot_learning_curves(history)"
   ]
  }
 ],
 "metadata": {
  "kernelspec": {
   "display_name": "Python 3",
   "language": "python",
   "name": "python3"
  },
  "language_info": {
   "codemirror_mode": {
    "name": "ipython",
    "version": 3
   },
   "file_extension": ".py",
   "mimetype": "text/x-python",
   "name": "python",
   "nbconvert_exporter": "python",
   "pygments_lexer": "ipython3",
   "version": "3.6.8"
  }
 },
 "nbformat": 4,
 "nbformat_minor": 4
}
