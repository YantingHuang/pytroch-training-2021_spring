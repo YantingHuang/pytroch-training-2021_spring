{
 "cells": [
  {
   "cell_type": "code",
   "execution_count": 1,
   "id": "coated-forwarding",
   "metadata": {},
   "outputs": [],
   "source": [
    "import torch\n",
    "import torch.nn as nn\n",
    "import torch.optim as optim\n",
    "import torch.nn.functional as F\n",
    "from torch.utils.data import DataLoader\n",
    "import torchvision.datasets as datasets\n",
    "import torchvision.transforms as transforms\n",
    "\n",
    "import pandas as pd\n",
    "import matplotlib.pyplot as plt\n",
    "\n",
    "import random\n",
    "import sys, os\n",
    "import multiprocessing"
   ]
  },
  {
   "cell_type": "code",
   "execution_count": 2,
   "id": "sublime-consolidation",
   "metadata": {},
   "outputs": [],
   "source": [
    "# use gpu for training if available\n",
    "device = torch.device(\"cuda\" if torch.cuda.is_available() else \"cpu\")"
   ]
  },
  {
   "cell_type": "markdown",
   "id": "wrong-bolivia",
   "metadata": {},
   "source": [
    "### Model specification\n",
    "\n",
    "Possible training techiniques to apply:<br>\n",
    "- Dropout: prevent from overfitting \n",
    "- Batch Normalization: accelerate the training of deep network\n",
    "\n",
    "Some useful resources for batch normalization and dropout\n",
    "- [note from Standord CS231n](https://cs231n.github.io/neural-networks-2/#reg): what is batch normalization and dropout\n",
    "- [dropout layer](https://pytorch.org/docs/stable/generated/torch.nn.Dropout.html): pytorch official document\n",
    "- [nn.Dropout v.s. F.dropout](https://stackoverflow.com/questions/53419474/using-dropout-in-pytorch-nn-dropout-vs-f-dropout): nn.Dropout is generally preferred"
   ]
  },
  {
   "cell_type": "code",
   "execution_count": 3,
   "id": "christian-prefix",
   "metadata": {},
   "outputs": [],
   "source": [
    "class Multiple_layer_fc_network(nn.Module):\n",
    "    def __init__(self, input_size, num_classes, \n",
    "                 apply_dropout=False, dropout_p=0.50, apply_bn=False):\n",
    "        super(Multiple_layer_fc_network, self).__init__()\n",
    "        self.apply_dropout = apply_dropout\n",
    "        self.apply_bn = apply_bn\n",
    "        \n",
    "        if self.apply_dropout:\n",
    "            print(f\"apply dropout with dropping rate {dropout_p}\")\n",
    "        if self.apply_bn:\n",
    "            print(f\"apply batch normalization\")\n",
    "        \n",
    "        self.fc1 = nn.Linear(input_size, 100)\n",
    "        self.fc2 = nn.Linear(100, 50)\n",
    "        self.fc3 = nn.Linear(50, num_classes)\n",
    "        self.bn1 = nn.BatchNorm1d(num_features=100)\n",
    "        self.bn2 = nn.BatchNorm1d(num_features=50)\n",
    "        self.dropout = nn.Dropout(p=dropout_p) # prob that the element to be zeroed\n",
    "    \n",
    "    def forward(self, x):\n",
    "        # hidden layer 1\n",
    "        x = self.fc1(x)\n",
    "        if self.apply_bn:\n",
    "            x = self.bn1(x)\n",
    "        x = F.relu(x)\n",
    "        if self.apply_dropout:\n",
    "            x = self.dropout(x)      \n",
    "        # hidden layer 2\n",
    "        x = self.fc2(x)\n",
    "        if self.apply_bn:\n",
    "            x = self.bn2(x)\n",
    "        x = F.relu(x)\n",
    "        if self.apply_dropout:\n",
    "            x = self.dropout(x)   \n",
    "        # output layer\n",
    "        x = self.fc3(x)\n",
    "        return x"
   ]
  },
  {
   "cell_type": "markdown",
   "id": "architectural-sphere",
   "metadata": {},
   "source": [
    "### Dimensionality checking with random inputs\n",
    "Recommend to do so to ensure the data flow in your model is as you expected"
   ]
  },
  {
   "cell_type": "code",
   "execution_count": 4,
   "id": "charged-portugal",
   "metadata": {},
   "outputs": [
    {
     "name": "stdout",
     "output_type": "stream",
     "text": [
      "torch.Size([64, 10])\n"
     ]
    }
   ],
   "source": [
    "x = torch.randn(64, 784)\n",
    "model = Multiple_layer_fc_network(input_size=784, num_classes=10)\n",
    "out = model(x)\n",
    "print(out.shape)"
   ]
  },
  {
   "cell_type": "markdown",
   "id": "informative-fortune",
   "metadata": {},
   "source": [
    "### Global Variables Specification\n",
    "Configure this part to your preferred setting before you start training"
   ]
  },
  {
   "cell_type": "code",
   "execution_count": 5,
   "id": "western-sleep",
   "metadata": {},
   "outputs": [],
   "source": [
    "input_size = 784 # 28*28=784\n",
    "num_classes = 10\n",
    "learning_rate = 0.001\n",
    "batch_size = 64\n",
    "num_epochs = 50\n",
    "num_workers = 16 #multiprocessing.cpu_count() \n",
    "apply_dropout = True\n",
    "dropout_p = 0.20\n",
    "apply_bn = True\n",
    "early_stopping_criteria= 5\n",
    "\n",
    "val_proportion = 0.2\n",
    "\n",
    "data_dir = \"/mnt/addtional_data_ssd/pytorch_tutorials/data\" # change this path to your preferred directory to store fashion minst data\n",
    "model_dir = \"/mnt/addtional_data_ssd/pytorch_tutorials/model\" \n",
    "\n",
    "saved_model_fn = os.path.join(model_dir, \"best_fcn_model.pt\")"
   ]
  },
  {
   "cell_type": "markdown",
   "id": "treated-overhead",
   "metadata": {},
   "source": [
    "### Set up Dataset and DataLoader"
   ]
  },
  {
   "cell_type": "code",
   "execution_count": 6,
   "id": "aboriginal-inside",
   "metadata": {},
   "outputs": [
    {
     "name": "stdout",
     "output_type": "stream",
     "text": [
      "number samples in train: 48000\n",
      "number samples in val: 12000\n",
      "number samples in test: 10000\n"
     ]
    }
   ],
   "source": [
    "train_dataset = datasets.FashionMNIST(root=data_dir, train=True, transform=transforms.ToTensor(), download=True)\n",
    "test_dataset  = datasets.FashionMNIST(root=data_dir, train=False, transform=transforms.ToTensor(), download=True)\n",
    "\n",
    "\n",
    "val_size = int(val_proportion*len(train_dataset))\n",
    "train_size = len(train_dataset) - val_size\n",
    "test_size = len(test_dataset)\n",
    "\n",
    "print(f\"number samples in train: {train_size}\")\n",
    "print(f\"number samples in val: {val_size}\")\n",
    "print(f\"number samples in test: {test_size}\")\n",
    "\n",
    "train_dataset, val_dataset = torch.utils.data.random_split(train_dataset, [train_size, val_size])"
   ]
  },
  {
   "cell_type": "code",
   "execution_count": 7,
   "id": "multiple-pittsburgh",
   "metadata": {},
   "outputs": [],
   "source": [
    "train_loader = DataLoader(dataset=train_dataset, batch_size=batch_size, shuffle=True, num_workers=num_workers)\n",
    "val_loader = DataLoader(dataset=val_dataset, batch_size=batch_size, shuffle=False, num_workers=num_workers)\n",
    "test_loader = DataLoader(dataset=test_dataset, batch_size=batch_size, shuffle=False, num_workers=num_workers)"
   ]
  },
  {
   "cell_type": "code",
   "execution_count": 8,
   "id": "express-ecuador",
   "metadata": {},
   "outputs": [
    {
     "name": "stdout",
     "output_type": "stream",
     "text": [
      "input image has shape:\n",
      "torch.Size([1, 28, 28])\n"
     ]
    }
   ],
   "source": [
    "# check the dimensions of the data\n",
    "image, target = train_dataset[0]\n",
    "print(\"input image has shape:\")\n",
    "print(image.shape)"
   ]
  },
  {
   "cell_type": "markdown",
   "id": "breathing-praise",
   "metadata": {},
   "source": [
    "### Show Images\n",
    "Just to get a better sense of how fashion-mnist dataset looks like"
   ]
  },
  {
   "cell_type": "code",
   "execution_count": 9,
   "id": "arabic-assignment",
   "metadata": {},
   "outputs": [],
   "source": [
    "def show_single_image(dataset, image_index):\n",
    "    image, label = dataset[image_index]\n",
    "    image = torch.squeeze(image).numpy()\n",
    "    plt.imshow(image, cmap=\"binary\")\n",
    "    plt.show()\n",
    "\n",
    "def show_imgs(n_rows, n_cols, dataset, class_names):\n",
    "    assert n_rows * n_cols < len(dataset)\n",
    "    selected_indicies = random.sample(range(len(dataset)), n_rows * n_cols)\n",
    "    plt.figure(figsize = (n_cols * 1.4, n_rows * 1.6))\n",
    "    for row in range(n_rows):\n",
    "        for col in range(n_cols):\n",
    "            index = n_cols * row + col \n",
    "            plt.subplot(n_rows, n_cols, index+1)\n",
    "            image_index = selected_indicies[index]\n",
    "            image, label = dataset[image_index]\n",
    "            image = torch.squeeze(image).numpy()\n",
    "            plt.imshow(image, cmap=\"binary\", interpolation = 'nearest')\n",
    "            plt.axis('off')\n",
    "            plt.title(class_names[label])\n",
    "    plt.show()"
   ]
  },
  {
   "cell_type": "code",
   "execution_count": 10,
   "id": "invisible-flavor",
   "metadata": {},
   "outputs": [
    {
     "name": "stdout",
     "output_type": "stream",
     "text": [
      "show the first image\n"
     ]
    },
    {
     "data": {
      "image/png": "[encoded data removed]",
      "text/plain": [
       "<Figure size 432x288 with 1 Axes>"
      ]
     },
     "metadata": {
      "needs_background": "light"
     },
     "output_type": "display_data"
    },
    {
     "name": "stdout",
     "output_type": "stream",
     "text": [
      "show 20 randomly selected images\n"
     ]
    },
    {
     "data": {
      "image/png": "[encoded data removed]",
      "text/plain": [
       "<Figure size 504x460.8 with 20 Axes>"
      ]
     },
     "metadata": {
      "needs_background": "light"
     },
     "output_type": "display_data"
    }
   ],
   "source": [
    "class_names = ['T-shirt', 'Trouser', 'Pullover', 'Dress', 'Coat', 'Sandal', 'Shirt', 'Sneaker', 'Bag', 'Ankle boot']\n",
    "print(\"show the first image\")\n",
    "show_single_image(train_dataset, image_index=0)\n",
    "print(\"show 20 randomly selected images\")\n",
    "show_imgs(4, 5, train_dataset, class_names)"
   ]
  },
  {
   "cell_type": "markdown",
   "id": "voluntary-modern",
   "metadata": {},
   "source": [
    "### Model Initialization, Loss, Optimizer"
   ]
  },
  {
   "cell_type": "code",
   "execution_count": 11,
   "id": "sharp-smooth",
   "metadata": {},
   "outputs": [
    {
     "name": "stdout",
     "output_type": "stream",
     "text": [
      "apply dropout with dropping rate 0.2\n",
      "apply batch normalization\n",
      "Multiple_layer_fc_network(\n",
      "  (fc1): Linear(in_features=784, out_features=100, bias=True)\n",
      "  (fc2): Linear(in_features=100, out_features=50, bias=True)\n",
      "  (fc3): Linear(in_features=50, out_features=10, bias=True)\n",
      "  (bn1): BatchNorm1d(100, eps=1e-05, momentum=0.1, affine=True, track_running_stats=True)\n",
      "  (bn2): BatchNorm1d(50, eps=1e-05, momentum=0.1, affine=True, track_running_stats=True)\n",
      "  (dropout): Dropout(p=0.2, inplace=False)\n",
      ")\n"
     ]
    }
   ],
   "source": [
    "# instantiate the model\n",
    "clf = Multiple_layer_fc_network(input_size=input_size, \n",
    "                                num_classes=num_classes,\n",
    "                                apply_dropout=apply_dropout,\n",
    "                                dropout_p=dropout_p,\n",
    "                                apply_bn=apply_bn)\n",
    "clf.to(device) # move the model to gpu if available\n",
    "print(clf)\n",
    "\n",
    "# instantiate the loss and the optimizer\n",
    "criterion = nn.CrossEntropyLoss()\n",
    "optimizer = optim.Adam(clf.parameters(), lr=learning_rate)"
   ]
  },
  {
   "cell_type": "markdown",
   "id": "correct-coral",
   "metadata": {},
   "source": [
    "### Initialize a dictionary to record training progress"
   ]
  },
  {
   "cell_type": "code",
   "execution_count": 12,
   "id": "passive-showcase",
   "metadata": {},
   "outputs": [],
   "source": [
    "train_state = {\n",
    "    \"train_loss\": [],\n",
    "    \"train_acc\": [],\n",
    "    \"val_loss\": [],\n",
    "    \"val_acc\": []\n",
    "}"
   ]
  },
  {
   "cell_type": "markdown",
   "id": "complicated-voluntary",
   "metadata": {},
   "source": [
    "### Train the model\n",
    "[Model saving and loading](https://pytorch.org/tutorials/beginner/saving_loading_models.html)"
   ]
  },
  {
   "cell_type": "code",
   "execution_count": 13,
   "id": "emerging-spiritual",
   "metadata": {},
   "outputs": [
    {
     "name": "stdout",
     "output_type": "stream",
     "text": [
      "[epoch 0 step 199] running training loss: 0.906\n",
      "[epoch 0 step 399] running training loss: 0.551\n",
      "[epoch 0 step 599] running training loss: 0.496\n",
      "[epoch 0] val loss: 0.399, accuracy: 85.075%\n",
      "current best validation loss: 0.399\n",
      "=====>save the best model\n",
      "--------------------------------------------\n",
      "[epoch 1 step 199] running training loss: 0.453\n",
      "[epoch 1 step 399] running training loss: 0.438\n",
      "[epoch 1 step 599] running training loss: 0.427\n",
      "[epoch 1] val loss: 0.374, accuracy: 85.867%\n",
      "current best validation loss: 0.374\n",
      "=====>save the best model\n",
      "--------------------------------------------\n",
      "[epoch 2 step 199] running training loss: 0.415\n",
      "[epoch 2 step 399] running training loss: 0.400\n",
      "[epoch 2 step 599] running training loss: 0.402\n",
      "[epoch 2] val loss: 0.372, accuracy: 86.083%\n",
      "current best validation loss: 0.372\n",
      "=====>save the best model\n",
      "--------------------------------------------\n",
      "[epoch 3 step 199] running training loss: 0.380\n",
      "[epoch 3 step 399] running training loss: 0.379\n",
      "[epoch 3 step 599] running training loss: 0.373\n",
      "[epoch 3] val loss: 0.330, accuracy: 87.475%\n",
      "current best validation loss: 0.330\n",
      "=====>save the best model\n",
      "--------------------------------------------\n",
      "[epoch 4 step 199] running training loss: 0.347\n",
      "[epoch 4 step 399] running training loss: 0.367\n",
      "[epoch 4 step 599] running training loss: 0.368\n",
      "[epoch 4] val loss: 0.320, accuracy: 87.925%\n",
      "current best validation loss: 0.320\n",
      "=====>save the best model\n",
      "--------------------------------------------\n",
      "[epoch 5 step 199] running training loss: 0.357\n",
      "[epoch 5 step 399] running training loss: 0.330\n",
      "[epoch 5 step 599] running training loss: 0.341\n",
      "[epoch 5] val loss: 0.319, accuracy: 88.050%\n",
      "current best validation loss: 0.319\n",
      "=====>save the best model\n",
      "--------------------------------------------\n",
      "[epoch 6 step 199] running training loss: 0.337\n",
      "[epoch 6 step 399] running training loss: 0.322\n",
      "[epoch 6 step 599] running training loss: 0.342\n",
      "[epoch 6] val loss: 0.313, accuracy: 88.067%\n",
      "current best validation loss: 0.313\n",
      "=====>save the best model\n",
      "--------------------------------------------\n",
      "[epoch 7 step 199] running training loss: 0.319\n",
      "[epoch 7 step 399] running training loss: 0.320\n",
      "[epoch 7 step 599] running training loss: 0.325\n",
      "[epoch 7] val loss: 0.319, accuracy: 88.017%\n",
      "validation loss stops decreasing for 1 epoch\n",
      "--------------------------------------------\n",
      "[epoch 8 step 199] running training loss: 0.315\n",
      "[epoch 8 step 399] running training loss: 0.318\n",
      "[epoch 8 step 599] running training loss: 0.309\n",
      "[epoch 8] val loss: 0.305, accuracy: 88.525%\n",
      "current best validation loss: 0.305\n",
      "=====>save the best model\n",
      "--------------------------------------------\n",
      "[epoch 9 step 199] running training loss: 0.308\n",
      "[epoch 9 step 399] running training loss: 0.313\n",
      "[epoch 9 step 599] running training loss: 0.308\n",
      "[epoch 9] val loss: 0.298, accuracy: 88.567%\n",
      "current best validation loss: 0.298\n",
      "=====>save the best model\n",
      "--------------------------------------------\n",
      "[epoch 10 step 199] running training loss: 0.301\n",
      "[epoch 10 step 399] running training loss: 0.304\n",
      "[epoch 10 step 599] running training loss: 0.304\n",
      "[epoch 10] val loss: 0.304, accuracy: 88.567%\n",
      "validation loss stops decreasing for 1 epoch\n",
      "--------------------------------------------\n",
      "[epoch 11 step 199] running training loss: 0.289\n",
      "[epoch 11 step 399] running training loss: 0.294\n",
      "[epoch 11 step 599] running training loss: 0.301\n",
      "[epoch 11] val loss: 0.302, accuracy: 88.983%\n",
      "validation loss stops decreasing for 2 epoch\n",
      "--------------------------------------------\n",
      "[epoch 12 step 199] running training loss: 0.287\n",
      "[epoch 12 step 399] running training loss: 0.284\n",
      "[epoch 12 step 599] running training loss: 0.289\n",
      "[epoch 12] val loss: 0.307, accuracy: 88.583%\n",
      "validation loss stops decreasing for 3 epoch\n",
      "--------------------------------------------\n",
      "[epoch 13 step 199] running training loss: 0.275\n",
      "[epoch 13 step 399] running training loss: 0.285\n",
      "[epoch 13 step 599] running training loss: 0.284\n",
      "[epoch 13] val loss: 0.301, accuracy: 89.000%\n",
      "validation loss stops decreasing for 4 epoch\n",
      "--------------------------------------------\n",
      "[epoch 14 step 199] running training loss: 0.282\n",
      "[epoch 14 step 399] running training loss: 0.277\n",
      "[epoch 14 step 599] running training loss: 0.284\n",
      "[epoch 14] val loss: 0.303, accuracy: 89.083%\n",
      "validation loss stops decreasing for 5 epoch\n",
      "early stopping criteria reached\n"
     ]
    }
   ],
   "source": [
    "best_val_loss = float('inf')\n",
    "early_stopping_step = 0\n",
    "\n",
    "for epoch in range(num_epochs):\n",
    "    running_train_loss = 0.0 # running loss for every 200 steps during training\n",
    "    train_loss = 0.0 # accumulated training loss for the entire epoch\n",
    "    num_train_samples = 0 \n",
    "    correct = 0\n",
    "    clf.train() # switch to training mode\n",
    "    for batch_idx, (images, targets) in enumerate(train_loader):\n",
    "        # transfer data to gpu if available\n",
    "        images, targets = images.to(device), targets.to(device)\n",
    "        #print(images.shape, targets.shape)\n",
    "        \n",
    "        # reshape the images to proper shape\n",
    "        batch_size = images.shape[0]\n",
    "        images = images.reshape(batch_size, -1)\n",
    "        \n",
    "        # forward pass\n",
    "        preds = clf(images)\n",
    "        loss = criterion(preds, targets)\n",
    "        \n",
    "        # back prop\n",
    "        optimizer.zero_grad()\n",
    "        loss.backward()\n",
    "        \n",
    "        # update model params\n",
    "        optimizer.step()\n",
    "        \n",
    "        # evaluate performance for each batch\n",
    "        running_train_loss += loss.item()\n",
    "        train_loss += loss.item() * batch_size\n",
    "        num_train_samples += batch_size\n",
    "        _, pred_labels = torch.max(preds, dim=1)\n",
    "        correct += (pred_labels==targets).sum().item()\n",
    "\n",
    "        # print training stat every 200 steps\n",
    "        if ((batch_idx+1) % 200==0):\n",
    "            print(f\"[epoch {epoch} step {batch_idx}] running training loss: {running_train_loss/200:.3f}\")\n",
    "            running_train_loss = 0.0\n",
    "    \n",
    "    epoch_train_loss= train_loss/num_train_samples\n",
    "    epoch_train_acc= correct/num_train_samples\n",
    "            \n",
    "    # evaluate on the validation set every epoch\n",
    "    clf.eval() # switch to evaluation mode\n",
    "    val_loss = 0.0\n",
    "    num_val_samples = 0 \n",
    "    correct = 0\n",
    "    for images, targets in val_loader:\n",
    "        images, targets = images.to(device), targets.to(device)\n",
    "        batch_size = images.shape[0]\n",
    "        images = images.reshape(batch_size, -1)\n",
    "        preds = clf(images)\n",
    "        loss = criterion(preds, targets)\n",
    "        val_loss += loss.item() * images.shape[0]\n",
    "        num_val_samples += batch_size\n",
    "        # calculate accuracy\n",
    "        preds = clf(images)\n",
    "        _, pred_labels = torch.max(preds, dim=1)\n",
    "        correct += (pred_labels==targets).sum().item()\n",
    "    epoch_val_loss= val_loss/num_val_samples\n",
    "    epoch_val_acc= correct/num_val_samples\n",
    "    print(f\"[epoch {epoch}] val loss: {epoch_val_loss:.3f}, accuracy: {100*epoch_val_acc:.3f}%\")\n",
    "    \n",
    "    # update train_state dict\n",
    "    train_state['train_loss'].append(epoch_train_loss)\n",
    "    train_state['train_acc'].append(epoch_train_acc)\n",
    "    train_state['val_loss'].append(epoch_val_loss)\n",
    "    train_state['val_acc'].append(epoch_val_acc)\n",
    "    \n",
    "    # early stopping\n",
    "    if (epoch_val_loss < best_val_loss):\n",
    "        best_val_loss = epoch_val_loss\n",
    "        early_stopping_step = 0\n",
    "        print(f\"current best validation loss: {best_val_loss:.3f}\")\n",
    "        torch.save(clf.state_dict(), saved_model_fn)\n",
    "        print(\"=====>save the best model\")\n",
    "    else:\n",
    "        early_stopping_step += 1\n",
    "        print(f\"validation loss stops decreasing for {early_stopping_step} epoch\")\n",
    "        if (early_stopping_step==early_stopping_criteria):\n",
    "            print(\"early stopping criteria reached\")\n",
    "            break\n",
    "    print(\"--------------------------------------------\")\n",
    "            "
   ]
  },
  {
   "cell_type": "markdown",
   "id": "hairy-honey",
   "metadata": {},
   "source": [
    "### Test the network on the test data"
   ]
  },
  {
   "cell_type": "code",
   "execution_count": 14,
   "id": "accompanied-invitation",
   "metadata": {},
   "outputs": [
    {
     "name": "stdout",
     "output_type": "stream",
     "text": [
      "apply dropout with dropping rate 0.2\n",
      "apply batch normalization\n",
      "testing loss: 0.329, testing accuracy: 88.130%\n"
     ]
    }
   ],
   "source": [
    "# load the saved best model\n",
    "clf = Multiple_layer_fc_network(input_size=input_size, \n",
    "                                num_classes=num_classes,\n",
    "                                apply_dropout=apply_dropout,\n",
    "                                dropout_p=dropout_p,\n",
    "                                apply_bn=apply_bn)\n",
    "clf.load_state_dict(torch.load(saved_model_fn))\n",
    "clf.to(device)\n",
    "\n",
    "# evaluate on testing set\n",
    "clf.eval()\n",
    "test_loss = 0.0\n",
    "num_test_samples = 0 \n",
    "correct = 0\n",
    "for images, targets in test_loader:\n",
    "    images, targets = images.to(device), targets.to(device)\n",
    "    batch_size = images.shape[0]\n",
    "    images = images.reshape(batch_size, -1)\n",
    "    preds = clf(images)\n",
    "    loss = criterion(preds, targets)\n",
    "    test_loss += loss.item() * images.shape[0]\n",
    "    num_test_samples += batch_size\n",
    "    # calculate accuracy\n",
    "    preds = clf(images)\n",
    "    _, pred_labels = torch.max(preds, dim=1)\n",
    "    correct += (pred_labels==targets).sum().item()\n",
    "print(f\"testing loss: {test_loss/num_test_samples:.3f}, testing accuracy: {100*correct/num_test_samples:.3f}%\")\n"
   ]
  },
  {
   "cell_type": "markdown",
   "id": "partial-company",
   "metadata": {},
   "source": [
    "### Plot learning curve"
   ]
  },
  {
   "cell_type": "code",
   "execution_count": 15,
   "id": "controversial-dutch",
   "metadata": {},
   "outputs": [],
   "source": [
    "def plot_learning_curves(train_hist_df, title):\n",
    "    num_epoch = train_hist_df.shape[0]\n",
    "    train_hist_df.plot(figsize=(8, 5), title=title, xticks=range(1, num_epoch+1, 3))\n",
    "    plt.grid(True)\n",
    "    ymin, ymax = 0.95 * train_hist_df.values.min(), min(1.1 * train_hist_df.values.max(), 1.0)\n",
    "    plt.gca().set_ylim(ymin, ymax)\n",
    "    plt.show()"
   ]
  },
  {
   "cell_type": "code",
   "execution_count": 16,
   "id": "greater-visiting",
   "metadata": {},
   "outputs": [
    {
     "name": "stdout",
     "output_type": "stream",
     "text": [
      "    train_loss  train_acc  val_loss   val_acc\n",
      "0     0.618799   0.804562  0.399284  0.850750\n",
      "1     0.435436   0.847271  0.374458  0.858667\n",
      "2     0.402363   0.855083  0.371539  0.860833\n",
      "3     0.375409   0.864458  0.329586  0.874750\n",
      "4     0.358979   0.869188  0.319658  0.879250\n",
      "5     0.345850   0.874396  0.318715  0.880500\n",
      "6     0.334108   0.877938  0.313391  0.880667\n",
      "7     0.325440   0.881667  0.318663  0.880167\n",
      "8     0.314765   0.886188  0.304841  0.885250\n",
      "9     0.309353   0.887104  0.298103  0.885667\n",
      "10    0.302139   0.889625  0.304358  0.885667\n",
      "11    0.294653   0.892875  0.302391  0.889833\n",
      "12    0.289579   0.894958  0.306718  0.885833\n",
      "13    0.284032   0.895521  0.300667  0.890000\n",
      "14    0.282293   0.897312  0.302558  0.890833\n"
     ]
    },
    {
     "data": {
      "image/png": "[encoded data removed]",
      "text/plain": [
       "<Figure size 576x360 with 1 Axes>"
      ]
     },
     "metadata": {
      "needs_background": "light"
     },
     "output_type": "display_data"
    },
    {
     "data": {
      "image/png": "[encoded data removed]",
      "text/plain": [
       "<Figure size 576x360 with 1 Axes>"
      ]
     },
     "metadata": {
      "needs_background": "light"
     },
     "output_type": "display_data"
    }
   ],
   "source": [
    "train_state_df = pd.DataFrame(train_state)\n",
    "print(train_state_df)\n",
    "plot_learning_curves(train_state_df[['train_loss', 'val_loss']], \"Loss Curve\")\n",
    "plot_learning_curves(train_state_df[['train_acc', 'val_acc']], \"Accuracy Curve\")"
   ]
  },
  {
   "cell_type": "code",
   "execution_count": null,
   "id": "finished-indication",
   "metadata": {},
   "outputs": [],
   "source": []
  }
 ],
 "metadata": {
  "kernelspec": {
   "display_name": "torch_dev_kernel",
   "language": "python",
   "name": "torch_dev"
  },
  "language_info": {
   "codemirror_mode": {
    "name": "ipython",
    "version": 3
   },
   "file_extension": ".py",
   "mimetype": "text/x-python",
   "name": "python",
   "nbconvert_exporter": "python",
   "pygments_lexer": "ipython3",
   "version": "3.8.8"
  }
 },
 "nbformat": 4,
 "nbformat_minor": 5
}
