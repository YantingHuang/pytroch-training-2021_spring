{
 "cells": [
  {
   "cell_type": "code",
   "execution_count": 1,
   "id": "coated-forwarding",
   "metadata": {},
   "outputs": [],
   "source": [
    "import torch\n",
    "import torch.nn as nn\n",
    "import torch.optim as optim\n",
    "import torch.nn.functional as F\n",
    "from torch.utils.data import DataLoader\n",
    "import torchvision.datasets as datasets\n",
    "import torchvision.transforms as transforms\n",
    "\n",
    "import pandas as pd\n",
    "import matplotlib.pyplot as plt\n",
    "\n",
    "import random\n",
    "import multiprocessing"
   ]
  },
  {
   "cell_type": "code",
   "execution_count": 2,
   "id": "sublime-consolidation",
   "metadata": {},
   "outputs": [],
   "source": [
    "# use gpu for training if available\n",
    "device = torch.device(\"cuda\" if torch.cuda.is_available() else \"cpu\")"
   ]
  },
  {
   "cell_type": "markdown",
   "id": "wrong-bolivia",
   "metadata": {},
   "source": [
    "### Model specification"
   ]
  },
  {
   "cell_type": "code",
   "execution_count": 3,
   "id": "christian-prefix",
   "metadata": {},
   "outputs": [],
   "source": [
    "class Multiple_layer_fc_network(nn.Module):\n",
    "    def __init__(self, input_size, num_classes):\n",
    "        super(Multiple_layer_fc_network, self).__init__()\n",
    "        self.fc1 = nn.Linear(input_size, 100)\n",
    "        self.fc2 = nn.Linear(100, num_classes)\n",
    "    \n",
    "    def forward(self, x):\n",
    "        x = F.relu(self.fc1(x))\n",
    "        x = self.fc2(x)\n",
    "        return x"
   ]
  },
  {
   "cell_type": "markdown",
   "id": "architectural-sphere",
   "metadata": {},
   "source": [
    "### Dimensionality checking with random inputs\n",
    "Recommend to do so to ensure the data flow in your model is as you expected"
   ]
  },
  {
   "cell_type": "code",
   "execution_count": 4,
   "id": "charged-portugal",
   "metadata": {},
   "outputs": [
    {
     "name": "stdout",
     "output_type": "stream",
     "text": [
      "torch.Size([64, 10])\n"
     ]
    }
   ],
   "source": [
    "x = torch.randn(64, 784)\n",
    "model = Multiple_layer_fc_network(input_size=784, num_classes=10)\n",
    "out = model(x)\n",
    "print(out.shape)"
   ]
  },
  {
   "cell_type": "markdown",
   "id": "informative-fortune",
   "metadata": {},
   "source": [
    "### Global Variables Specification"
   ]
  },
  {
   "cell_type": "code",
   "execution_count": 5,
   "id": "western-sleep",
   "metadata": {},
   "outputs": [],
   "source": [
    "input_size = 784 # 28*28=784\n",
    "num_classes = 10\n",
    "learning_rate = 0.001\n",
    "batch_size = 64\n",
    "num_epochs = 50\n",
    "num_workers = 16 #multiprocessing.cpu_count() \n",
    "\n",
    "early_stopping_criteria= 5\n",
    "\n",
    "val_proportion = 0.2\n",
    "\n",
    "data_dir = \"/mnt/addtional_data_ssd/pytorch_tutorials/data\" # change this path to your preferred directory to store fashion minst data"
   ]
  },
  {
   "cell_type": "markdown",
   "id": "treated-overhead",
   "metadata": {},
   "source": [
    "### Set up Dataset and DataLoader"
   ]
  },
  {
   "cell_type": "code",
   "execution_count": 6,
   "id": "aboriginal-inside",
   "metadata": {},
   "outputs": [
    {
     "name": "stdout",
     "output_type": "stream",
     "text": [
      "number samples in train: 48000\n",
      "number samples in val: 12000\n",
      "number samples in test: 10000\n"
     ]
    }
   ],
   "source": [
    "train_dataset = datasets.FashionMNIST(root=data_dir, train=True, transform=transforms.ToTensor(), download=True)\n",
    "test_dataset  = datasets.FashionMNIST(root=data_dir, train=False, transform=transforms.ToTensor(), download=True)\n",
    "\n",
    "\n",
    "val_size = int(val_proportion*len(train_dataset))\n",
    "train_size = len(train_dataset) - val_size\n",
    "test_size = len(test_dataset)\n",
    "\n",
    "print(f\"number samples in train: {train_size}\")\n",
    "print(f\"number samples in val: {val_size}\")\n",
    "print(f\"number samples in test: {test_size}\")\n",
    "\n",
    "train_dataset, val_dataset = torch.utils.data.random_split(train_dataset, [train_size, val_size])"
   ]
  },
  {
   "cell_type": "code",
   "execution_count": 7,
   "id": "multiple-pittsburgh",
   "metadata": {},
   "outputs": [],
   "source": [
    "train_loader = DataLoader(dataset=train_dataset, batch_size=batch_size, shuffle=True, num_workers=num_workers)\n",
    "val_loader = DataLoader(dataset=val_dataset, batch_size=batch_size, shuffle=False, num_workers=num_workers)\n",
    "test_loader = DataLoader(dataset=test_dataset, batch_size=batch_size, shuffle=False, num_workers=num_workers)"
   ]
  },
  {
   "cell_type": "code",
   "execution_count": 8,
   "id": "express-ecuador",
   "metadata": {},
   "outputs": [
    {
     "name": "stdout",
     "output_type": "stream",
     "text": [
      "input image has shape:\n",
      "torch.Size([1, 28, 28])\n"
     ]
    }
   ],
   "source": [
    "# check the dimensions of the data\n",
    "image, target = train_dataset[0]\n",
    "print(\"input image has shape:\")\n",
    "print(image.shape)"
   ]
  },
  {
   "cell_type": "markdown",
   "id": "adult-scholar",
   "metadata": {},
   "source": [
    "### Show Images\n",
    "Just to get a better sense of how fashion-mnist dataset looks like"
   ]
  },
  {
   "cell_type": "code",
   "execution_count": 9,
   "id": "checked-despite",
   "metadata": {},
   "outputs": [],
   "source": [
    "def show_single_image(dataset, image_index):\n",
    "    image, label = dataset[image_index]\n",
    "    image = torch.squeeze(image).numpy()\n",
    "    plt.imshow(image, cmap=\"binary\")\n",
    "    plt.show()\n",
    "\n",
    "def show_imgs(n_rows, n_cols, dataset, class_names):\n",
    "    assert n_rows * n_cols < len(dataset)\n",
    "    selected_indicies = random.sample(range(len(dataset)), n_rows * n_cols)\n",
    "    plt.figure(figsize = (n_cols * 1.4, n_rows * 1.6))\n",
    "    for row in range(n_rows):\n",
    "        for col in range(n_cols):\n",
    "            index = n_cols * row + col \n",
    "            plt.subplot(n_rows, n_cols, index+1)\n",
    "            image_index = selected_indicies[index]\n",
    "            image, label = dataset[image_index]\n",
    "            image = torch.squeeze(image).numpy()\n",
    "            plt.imshow(image, cmap=\"binary\", interpolation = 'nearest')\n",
    "            plt.axis('off')\n",
    "            plt.title(class_names[label])\n",
    "    plt.show()"
   ]
  },
  {
   "cell_type": "code",
   "execution_count": 10,
   "id": "split-horizon",
   "metadata": {},
   "outputs": [
    {
     "name": "stdout",
     "output_type": "stream",
     "text": [
      "show the first image\n"
     ]
    },
    {
     "data": {
      "image/png": "[encoded data removed]",
      "text/plain": [
       "<Figure size 432x288 with 1 Axes>"
      ]
     },
     "metadata": {
      "needs_background": "light"
     },
     "output_type": "display_data"
    },
    {
     "name": "stdout",
     "output_type": "stream",
     "text": [
      "show 20 randomly selected images\n"
     ]
    },
    {
     "data": {
      "image/png": "[encoded data removed]",
      "text/plain": [
       "<Figure size 504x460.8 with 20 Axes>"
      ]
     },
     "metadata": {
      "needs_background": "light"
     },
     "output_type": "display_data"
    }
   ],
   "source": [
    "class_names = ['T-shirt', 'Trouser', 'Pullover', 'Dress', 'Coat', 'Sandal', 'Shirt', 'Sneaker', 'Bag', 'Ankle boot']\n",
    "print(\"show the first image\")\n",
    "show_single_image(train_dataset, image_index=0)\n",
    "print(\"show 20 randomly selected images\")\n",
    "show_imgs(4, 5, train_dataset, class_names)"
   ]
  },
  {
   "cell_type": "markdown",
   "id": "voluntary-modern",
   "metadata": {},
   "source": [
    "### Model Initialization, Loss, Optimizer"
   ]
  },
  {
   "cell_type": "code",
   "execution_count": 11,
   "id": "sharp-smooth",
   "metadata": {},
   "outputs": [],
   "source": [
    "clf = Multiple_layer_fc_network(input_size=input_size, num_classes=num_classes)\n",
    "clf.to(device)\n",
    "\n",
    "criterion = nn.CrossEntropyLoss()\n",
    "optimizer = optim.Adam(clf.parameters(), lr=learning_rate)"
   ]
  },
  {
   "cell_type": "markdown",
   "id": "surprising-singles",
   "metadata": {},
   "source": [
    "### Initialize a dictionary to record training progress"
   ]
  },
  {
   "cell_type": "code",
   "execution_count": 12,
   "id": "yellow-major",
   "metadata": {},
   "outputs": [],
   "source": [
    "train_state = {\n",
    "    \"train_loss\": [],\n",
    "    \"train_acc\": [],\n",
    "    \"val_loss\": [],\n",
    "    \"val_acc\": []\n",
    "}"
   ]
  },
  {
   "cell_type": "markdown",
   "id": "complicated-voluntary",
   "metadata": {},
   "source": [
    "### Train the model"
   ]
  },
  {
   "cell_type": "code",
   "execution_count": 13,
   "id": "emerging-spiritual",
   "metadata": {},
   "outputs": [
    {
     "name": "stdout",
     "output_type": "stream",
     "text": [
      "[epoch 0 step 199] running training loss: 0.815\n",
      "[epoch 0 step 399] running training loss: 0.528\n",
      "[epoch 0 step 599] running training loss: 0.497\n",
      "[epoch 0] val loss: 0.439, accuracy: 84.783%\n",
      "current best validation loss: 0.439\n",
      "--------------------------------------------\n",
      "[epoch 1 step 199] running training loss: 0.445\n",
      "[epoch 1 step 399] running training loss: 0.430\n",
      "[epoch 1 step 599] running training loss: 0.403\n",
      "[epoch 1] val loss: 0.394, accuracy: 86.150%\n",
      "current best validation loss: 0.394\n",
      "--------------------------------------------\n",
      "[epoch 2 step 199] running training loss: 0.392\n",
      "[epoch 2 step 399] running training loss: 0.385\n",
      "[epoch 2 step 599] running training loss: 0.374\n",
      "[epoch 2] val loss: 0.372, accuracy: 87.058%\n",
      "current best validation loss: 0.372\n",
      "--------------------------------------------\n",
      "[epoch 3 step 199] running training loss: 0.361\n",
      "[epoch 3 step 399] running training loss: 0.373\n",
      "[epoch 3 step 599] running training loss: 0.355\n",
      "[epoch 3] val loss: 0.372, accuracy: 86.617%\n",
      "validation loss stops decreasing for 1 epoch\n",
      "--------------------------------------------\n",
      "[epoch 4 step 199] running training loss: 0.338\n",
      "[epoch 4 step 399] running training loss: 0.350\n",
      "[epoch 4 step 599] running training loss: 0.340\n",
      "[epoch 4] val loss: 0.348, accuracy: 87.300%\n",
      "current best validation loss: 0.348\n",
      "--------------------------------------------\n",
      "[epoch 5 step 199] running training loss: 0.326\n",
      "[epoch 5 step 399] running training loss: 0.328\n",
      "[epoch 5 step 599] running training loss: 0.314\n",
      "[epoch 5] val loss: 0.346, accuracy: 87.658%\n",
      "current best validation loss: 0.346\n",
      "--------------------------------------------\n",
      "[epoch 6 step 199] running training loss: 0.315\n",
      "[epoch 6 step 399] running training loss: 0.314\n",
      "[epoch 6 step 599] running training loss: 0.307\n",
      "[epoch 6] val loss: 0.328, accuracy: 88.183%\n",
      "current best validation loss: 0.328\n",
      "--------------------------------------------\n",
      "[epoch 7 step 199] running training loss: 0.288\n",
      "[epoch 7 step 399] running training loss: 0.292\n",
      "[epoch 7 step 599] running training loss: 0.302\n",
      "[epoch 7] val loss: 0.324, accuracy: 88.283%\n",
      "current best validation loss: 0.324\n",
      "--------------------------------------------\n",
      "[epoch 8 step 199] running training loss: 0.291\n",
      "[epoch 8 step 399] running training loss: 0.295\n",
      "[epoch 8 step 599] running training loss: 0.280\n",
      "[epoch 8] val loss: 0.327, accuracy: 88.150%\n",
      "validation loss stops decreasing for 1 epoch\n",
      "--------------------------------------------\n",
      "[epoch 9 step 199] running training loss: 0.271\n",
      "[epoch 9 step 399] running training loss: 0.274\n",
      "[epoch 9 step 599] running training loss: 0.280\n",
      "[epoch 9] val loss: 0.323, accuracy: 87.917%\n",
      "current best validation loss: 0.323\n",
      "--------------------------------------------\n",
      "[epoch 10 step 199] running training loss: 0.269\n",
      "[epoch 10 step 399] running training loss: 0.263\n",
      "[epoch 10 step 599] running training loss: 0.265\n",
      "[epoch 10] val loss: 0.335, accuracy: 88.267%\n",
      "validation loss stops decreasing for 1 epoch\n",
      "--------------------------------------------\n",
      "[epoch 11 step 199] running training loss: 0.256\n",
      "[epoch 11 step 399] running training loss: 0.253\n",
      "[epoch 11 step 599] running training loss: 0.262\n",
      "[epoch 11] val loss: 0.305, accuracy: 89.217%\n",
      "current best validation loss: 0.305\n",
      "--------------------------------------------\n",
      "[epoch 12 step 199] running training loss: 0.240\n",
      "[epoch 12 step 399] running training loss: 0.260\n",
      "[epoch 12 step 599] running training loss: 0.253\n",
      "[epoch 12] val loss: 0.305, accuracy: 88.875%\n",
      "validation loss stops decreasing for 1 epoch\n",
      "--------------------------------------------\n",
      "[epoch 13 step 199] running training loss: 0.242\n",
      "[epoch 13 step 399] running training loss: 0.234\n",
      "[epoch 13 step 599] running training loss: 0.254\n",
      "[epoch 13] val loss: 0.309, accuracy: 88.517%\n",
      "validation loss stops decreasing for 2 epoch\n",
      "--------------------------------------------\n",
      "[epoch 14 step 199] running training loss: 0.233\n",
      "[epoch 14 step 399] running training loss: 0.241\n",
      "[epoch 14 step 599] running training loss: 0.247\n",
      "[epoch 14] val loss: 0.304, accuracy: 88.933%\n",
      "current best validation loss: 0.304\n",
      "--------------------------------------------\n",
      "[epoch 15 step 199] running training loss: 0.228\n",
      "[epoch 15 step 399] running training loss: 0.234\n",
      "[epoch 15 step 599] running training loss: 0.234\n",
      "[epoch 15] val loss: 0.308, accuracy: 89.100%\n",
      "validation loss stops decreasing for 1 epoch\n",
      "--------------------------------------------\n",
      "[epoch 16 step 199] running training loss: 0.230\n",
      "[epoch 16 step 399] running training loss: 0.226\n",
      "[epoch 16 step 599] running training loss: 0.222\n",
      "[epoch 16] val loss: 0.294, accuracy: 89.517%\n",
      "current best validation loss: 0.294\n",
      "--------------------------------------------\n",
      "[epoch 17 step 199] running training loss: 0.219\n",
      "[epoch 17 step 399] running training loss: 0.214\n",
      "[epoch 17 step 599] running training loss: 0.230\n",
      "[epoch 17] val loss: 0.305, accuracy: 89.183%\n",
      "validation loss stops decreasing for 1 epoch\n",
      "--------------------------------------------\n",
      "[epoch 18 step 199] running training loss: 0.211\n",
      "[epoch 18 step 399] running training loss: 0.211\n",
      "[epoch 18 step 599] running training loss: 0.216\n",
      "[epoch 18] val loss: 0.327, accuracy: 88.475%\n",
      "validation loss stops decreasing for 2 epoch\n",
      "--------------------------------------------\n",
      "[epoch 19 step 199] running training loss: 0.199\n",
      "[epoch 19 step 399] running training loss: 0.203\n",
      "[epoch 19 step 599] running training loss: 0.221\n",
      "[epoch 19] val loss: 0.305, accuracy: 89.275%\n",
      "validation loss stops decreasing for 3 epoch\n",
      "--------------------------------------------\n",
      "[epoch 20 step 199] running training loss: 0.198\n",
      "[epoch 20 step 399] running training loss: 0.207\n",
      "[epoch 20 step 599] running training loss: 0.209\n",
      "[epoch 20] val loss: 0.313, accuracy: 88.967%\n",
      "validation loss stops decreasing for 4 epoch\n",
      "--------------------------------------------\n",
      "[epoch 21 step 199] running training loss: 0.198\n",
      "[epoch 21 step 399] running training loss: 0.201\n",
      "[epoch 21 step 599] running training loss: 0.202\n",
      "[epoch 21] val loss: 0.321, accuracy: 88.900%\n",
      "validation loss stops decreasing for 5 epoch\n",
      "early stopping criteria reached\n"
     ]
    }
   ],
   "source": [
    "best_val_loss = float('inf')\n",
    "early_stopping_step = 0\n",
    "\n",
    "for epoch in range(num_epochs):\n",
    "    running_train_loss = 0.0 # running loss for every 200 steps during training\n",
    "    train_loss = 0.0 # accumulated training loss for the entire epoch\n",
    "    num_train_samples = 0 \n",
    "    correct = 0\n",
    "    for batch_idx, (images, targets) in enumerate(train_loader):\n",
    "        # transfer data to gpu if available\n",
    "        images, targets = images.to(device), targets.to(device)\n",
    "        #print(images.shape, targets.shape)\n",
    "        \n",
    "        # reshape the images to proper shape\n",
    "        batch_size = images.shape[0]\n",
    "        images = images.reshape(batch_size, -1)\n",
    "        \n",
    "        # forward pass\n",
    "        preds = clf(images)\n",
    "        loss = criterion(preds, targets)\n",
    "        \n",
    "        # back prop\n",
    "        optimizer.zero_grad()\n",
    "        loss.backward()\n",
    "        \n",
    "        # update model params\n",
    "        optimizer.step()\n",
    "        \n",
    "        # evaluate performance for each batch\n",
    "        running_train_loss += loss.item()\n",
    "        train_loss += loss.item() * batch_size\n",
    "        num_train_samples += batch_size\n",
    "        _, pred_labels = torch.max(preds, dim=1)\n",
    "        correct += (pred_labels==targets).sum().item()\n",
    "\n",
    "        # print training stat every 200 steps\n",
    "        if ((batch_idx+1) % 200==0):\n",
    "            print(f\"[epoch {epoch} step {batch_idx}] running training loss: {running_train_loss/200:.3f}\")\n",
    "            running_train_loss = 0.0\n",
    "    \n",
    "    epoch_train_loss= train_loss/num_train_samples\n",
    "    epoch_train_acc= correct/num_train_samples\n",
    "            \n",
    "    # evaluate on the validation set every epoch\n",
    "    with torch.no_grad():\n",
    "        val_loss = 0.0\n",
    "        num_val_samples = 0 \n",
    "        correct = 0\n",
    "        for images, targets in val_loader:\n",
    "            images, targets = images.to(device), targets.to(device)\n",
    "            batch_size = images.shape[0]\n",
    "            images = images.reshape(batch_size, -1)\n",
    "            preds = clf(images)\n",
    "            loss = criterion(preds, targets)\n",
    "            val_loss += loss.item() * images.shape[0]\n",
    "            num_val_samples += batch_size\n",
    "            # calculate accuracy\n",
    "            preds = clf(images)\n",
    "            _, pred_labels = torch.max(preds, dim=1)\n",
    "            correct += (pred_labels==targets).sum().item()\n",
    "    epoch_val_loss= val_loss/num_val_samples\n",
    "    epoch_val_acc= correct/num_val_samples\n",
    "    print(f\"[epoch {epoch}] val loss: {epoch_val_loss:.3f}, accuracy: {100*epoch_val_acc:.3f}%\")\n",
    "    \n",
    "    # update train_state dict\n",
    "    train_state['train_loss'].append(epoch_train_loss)\n",
    "    train_state['train_acc'].append(epoch_train_acc)\n",
    "    train_state['val_loss'].append(epoch_val_loss)\n",
    "    train_state['val_acc'].append(epoch_val_acc)\n",
    "    \n",
    "    # early stopping\n",
    "    if (epoch_val_loss < best_val_loss):\n",
    "        best_val_loss = epoch_val_loss\n",
    "        early_stopping_step = 0\n",
    "        print(f\"current best validation loss: {best_val_loss:.3f}\")\n",
    "    else:\n",
    "        early_stopping_step += 1\n",
    "        print(f\"validation loss stops decreasing for {early_stopping_step} epoch\")\n",
    "        if (early_stopping_step==early_stopping_criteria):\n",
    "            print(\"early stopping criteria reached\")\n",
    "            break\n",
    "    print(\"--------------------------------------------\")\n",
    "            "
   ]
  },
  {
   "cell_type": "markdown",
   "id": "hairy-honey",
   "metadata": {},
   "source": [
    "### Test the network on the test data"
   ]
  },
  {
   "cell_type": "code",
   "execution_count": 14,
   "id": "accompanied-invitation",
   "metadata": {},
   "outputs": [
    {
     "name": "stdout",
     "output_type": "stream",
     "text": [
      "testing loss: 0.359, testing accuracy: 88.060%\n"
     ]
    }
   ],
   "source": [
    "with torch.no_grad():\n",
    "    test_loss = 0.0\n",
    "    num_test_samples = 0 \n",
    "    correct = 0\n",
    "    for images, targets in test_loader:\n",
    "        images, targets = images.to(device), targets.to(device)\n",
    "        batch_size = images.shape[0]\n",
    "        images = images.reshape(batch_size, -1)\n",
    "        preds = clf(images)\n",
    "        loss = criterion(preds, targets)\n",
    "        test_loss += loss.item() * images.shape[0]\n",
    "        num_test_samples += batch_size\n",
    "        # calculate accuracy\n",
    "        preds = clf(images)\n",
    "        _, pred_labels = torch.max(preds, dim=1)\n",
    "        correct += (pred_labels==targets).sum().item()\n",
    "print(f\"testing loss: {test_loss/num_test_samples:.3f}, testing accuracy: {100*correct/num_test_samples:.3f}%\")\n"
   ]
  },
  {
   "cell_type": "markdown",
   "id": "regulation-favor",
   "metadata": {},
   "source": [
    "### Plot learning curve"
   ]
  },
  {
   "cell_type": "code",
   "execution_count": 15,
   "id": "sealed-emperor",
   "metadata": {},
   "outputs": [],
   "source": [
    "def plot_learning_curves(train_hist_df, title):\n",
    "    num_epoch = train_hist_df.shape[0]\n",
    "    train_hist_df.plot(figsize=(8, 5), title=title, xticks=range(1, num_epoch+1, 3))\n",
    "    plt.grid(True)\n",
    "    ymin, ymax = 0.95 * train_hist_df.values.min(), min(1.1 * train_hist_df.values.max(), 1.0)\n",
    "    plt.gca().set_ylim(ymin, ymax)\n",
    "    plt.show()"
   ]
  },
  {
   "cell_type": "code",
   "execution_count": 16,
   "id": "engaging-humor",
   "metadata": {},
   "outputs": [
    {
     "name": "stdout",
     "output_type": "stream",
     "text": [
      "    train_loss  train_acc  val_loss   val_acc\n",
      "0     0.585323   0.800792  0.439246  0.847833\n",
      "1     0.426876   0.850167  0.394168  0.861500\n",
      "2     0.383432   0.863938  0.371589  0.870583\n",
      "3     0.361409   0.869854  0.372434  0.866167\n",
      "4     0.342587   0.876646  0.347549  0.873000\n",
      "5     0.324037   0.882292  0.345530  0.876583\n",
      "6     0.311295   0.887188  0.328275  0.881833\n",
      "7     0.297433   0.891208  0.323885  0.882833\n",
      "8     0.287349   0.895042  0.326986  0.881500\n",
      "9     0.275033   0.899417  0.323109  0.879167\n",
      "10    0.267435   0.901479  0.335344  0.882667\n",
      "11    0.259678   0.903625  0.304631  0.892167\n",
      "12    0.251360   0.907375  0.304638  0.888750\n",
      "13    0.244248   0.909354  0.309126  0.885167\n",
      "14    0.237213   0.913146  0.303944  0.889333\n",
      "15    0.232368   0.913875  0.308383  0.891000\n",
      "16    0.225514   0.916583  0.294183  0.895167\n",
      "17    0.222109   0.918917  0.305469  0.891833\n",
      "18    0.212628   0.921125  0.327361  0.884750\n",
      "19    0.209707   0.922958  0.304610  0.892750\n",
      "20    0.206021   0.923958  0.312580  0.889667\n",
      "21    0.201467   0.924542  0.320823  0.889000\n"
     ]
    },
    {
     "data": {
      "image/png": "[encoded data removed]",
      "text/plain": [
       "<Figure size 576x360 with 1 Axes>"
      ]
     },
     "metadata": {
      "needs_background": "light"
     },
     "output_type": "display_data"
    },
    {
     "data": {
      "image/png": "[encoded data removed]",
      "text/plain": [
       "<Figure size 576x360 with 1 Axes>"
      ]
     },
     "metadata": {
      "needs_background": "light"
     },
     "output_type": "display_data"
    }
   ],
   "source": [
    "train_state_df = pd.DataFrame(train_state)\n",
    "print(train_state_df)\n",
    "plot_learning_curves(train_state_df[['train_loss', 'val_loss']], \"Loss Curve\")\n",
    "plot_learning_curves(train_state_df[['train_acc', 'val_acc']], \"Accuracy Curve\")"
   ]
  },
  {
   "cell_type": "code",
   "execution_count": null,
   "id": "gross-inclusion",
   "metadata": {},
   "outputs": [],
   "source": []
  }
 ],
 "metadata": {
  "kernelspec": {
   "display_name": "torch_dev_kernel",
   "language": "python",
   "name": "torch_dev"
  },
  "language_info": {
   "codemirror_mode": {
    "name": "ipython",
    "version": 3
   },
   "file_extension": ".py",
   "mimetype": "text/x-python",
   "name": "python",
   "nbconvert_exporter": "python",
   "pygments_lexer": "ipython3",
   "version": "3.8.8"
  }
 },
 "nbformat": 4,
 "nbformat_minor": 5
}
